{
 "cells": [
  {
   "cell_type": "code",
   "execution_count": null,
   "metadata": {
    "scrolled": false,
    "slideshow": {
     "slide_type": "slide"
    }
   },
   "outputs": [],
   "source": [
    "from IPython.display import HTML\n",
    "url = 'https://www.mentimeter.com/s/083354a5b3b0ccce66d41db1e641c681/b7cbecbf89a5'\n",
    "iframe = '<iframe src=' + url + ' onload=\"this.width=0.9*screen.width; this.height=0.45*screen.height;\"></iframe>'\n",
    "HTML(iframe)"
   ]
  },
  {
   "cell_type": "markdown",
   "metadata": {
    "slideshow": {
     "slide_type": "subslide"
    }
   },
   "source": [
    "## Warum programmieren?\n",
    "* Komplexe Problemstellung\n",
    "* Abstraktion möglich\n",
    "* Zeitaufwändige Berechnungen\n",
    "* Automatisierung"
   ]
  },
  {
   "cell_type": "markdown",
   "metadata": {
    "slideshow": {
     "slide_type": "subslide"
    }
   },
   "source": [
    "## Selbst programmieren oder Tools nutzen?\n",
    "- Das Problem richtig kennen lernen\n",
    "- Lösungsweg in Physik oft wichtiger als Lösung\n",
    "- Optimierungen erst nach und nach möglich\n",
    "- Trotzdem: nicht immer das Rad neu erfinden\n",
    "- Viele Tools & Libraries nutzbar:\n",
    "    - Zeitersparnis\n",
    "    - Getestet\n",
    "    - Black Box"
   ]
  },
  {
   "cell_type": "markdown",
   "metadata": {
    "slideshow": {
     "slide_type": "subslide"
    }
   },
   "source": [
    "## Wie programmiere ich?\n",
    "* Programmiersprache\n",
    "* Compiler / Interpreter\n",
    "* $\\Rightarrow$ Maschinencode\n",
    "* High vs Low Level\n",
    "* Hardware Spezifisch\n",
    "* Paradigmen\n",
    "* Patterns"
   ]
  },
  {
   "cell_type": "markdown",
   "metadata": {
    "slideshow": {
     "slide_type": "slide"
    }
   },
   "source": [
    "# Python Grundlagen\n",
    "- Python Interpreter für jedes Betriebssystem\n",
    "- Achtung: Python Version 2 vs 3!\n",
    "- Tutorial zum Nachschlagen: https://py-tutorial-de.readthedocs.io/de/python-3.3/\n",
    "- Interaktiv vs Scripts\n",
    "- Kommandozeile:"
   ]
  },
  {
   "cell_type": "raw",
   "metadata": {
    "slideshow": {
     "slide_type": "-"
    }
   },
   "source": [
    "python"
   ]
  },
  {
   "cell_type": "code",
   "execution_count": null,
   "metadata": {
    "scrolled": true,
    "slideshow": {
     "slide_type": "fragment"
    }
   },
   "outputs": [],
   "source": [
    "%%bash\n",
    "python -c \"print('Hello World')\"\n",
    "\n",
    "echo \"print('Hello Script')\" > tmp.py\n",
    "python < tmp.py"
   ]
  },
  {
   "cell_type": "markdown",
   "metadata": {
    "slideshow": {
     "slide_type": "subslide"
    }
   },
   "source": [
    "## Was ist das hier?\n",
    "- $ipython$ Interpreter\n",
    "- Eine Abstraktionsebene höher\n",
    "- Jupyter Notebook\n",
    "- Urpsrünglich für JUlia, PYThon, R\n",
    "- Server / Client Architektur\n",
    "- Selber damit spielen? $\\rightarrow$ https://github.com/YominCarr/PythonBeginnerTutorial und auf \"Launch Binder\" klicken"
   ]
  },
  {
   "cell_type": "markdown",
   "metadata": {
    "slideshow": {
     "slide_type": "subslide"
    }
   },
   "source": [
    "## Wie installiere ich Python?\n",
    "- Oft vorinstalliert\n",
    "- Package Manager: z.B. sudo apt-get install python\n",
    "- Download von https://www.python.org/"
   ]
  },
  {
   "cell_type": "markdown",
   "metadata": {
    "slideshow": {
     "slide_type": "fragment"
    }
   },
   "source": [
    "## Wie installiere ich weitere Pakete für Python?"
   ]
  },
  {
   "cell_type": "raw",
   "metadata": {
    "slideshow": {
     "slide_type": "-"
    }
   },
   "source": [
    "pip install --upgrade pip\n",
    "pip install --user --upgrade numpy"
   ]
  },
  {
   "cell_type": "markdown",
   "metadata": {
    "slideshow": {
     "slide_type": "subslide"
    }
   },
   "source": [
    "## Was brauche ich noch zum Programmieren?\n",
    "- Editor\n",
    "    - Vim / Emacs Familie\n",
    "    - Jeder normale/guteTexteditor (NICHT Windows Editor)\n",
    "    - Eclipse\n",
    "    - NetBeans\n",
    "    - IntelliJ\n",
    "    - PyCharm\n",
    "    - ...\n",
    "- Etwas Hilfe zum Start\n",
    "- Ein Projekt\n",
    "- Google\n",
    "- Viel Übung!"
   ]
  },
  {
   "cell_type": "markdown",
   "metadata": {
    "slideshow": {
     "slide_type": "slide"
    }
   },
   "source": [
    "# Prorammieren: 1x1\n",
    "# Kommentare\n",
    "- Zusatzinfos für den Leser / Programmierer\n",
    "- Schnelles Debuggen"
   ]
  },
  {
   "cell_type": "code",
   "execution_count": null,
   "metadata": {
    "slideshow": {
     "slide_type": "fragment"
    }
   },
   "outputs": [],
   "source": [
    "#Das ist ein Kommentar\n",
    "'''\n",
    "Das auch aber\n",
    "mehrzeilig.\n",
    "Naja, sowas ähnliches...\n",
    "'''"
   ]
  },
  {
   "cell_type": "markdown",
   "metadata": {
    "slideshow": {
     "slide_type": "subslide"
    }
   },
   "source": [
    "# Variablen\n",
    "- Wie in Mathe!\n",
    "- Speichern einen gewissen Zustand\n",
    "- Haben einen Typ und einen Wert (primitiv)\n",
    "- Python: Dynamisch typisiert\n",
    "- Komplexere Strukturen möglich"
   ]
  },
  {
   "cell_type": "code",
   "execution_count": null,
   "metadata": {
    "slideshow": {
     "slide_type": "fragment"
    }
   },
   "outputs": [],
   "source": [
    "a = 13\n",
    "print(a)\n",
    "b = a - 4\n",
    "print(b)\n",
    "b += 1\n",
    "print(b)"
   ]
  },
  {
   "cell_type": "code",
   "execution_count": null,
   "metadata": {
    "slideshow": {
     "slide_type": "subslide"
    }
   },
   "outputs": [],
   "source": [
    "a = 4\n",
    "b = 3\n",
    "print(a/b)"
   ]
  },
  {
   "cell_type": "code",
   "execution_count": null,
   "metadata": {
    "slideshow": {
     "slide_type": "fragment"
    }
   },
   "outputs": [],
   "source": [
    "a = 4.0\n",
    "b = 3\n",
    "print(a/b)"
   ]
  },
  {
   "cell_type": "code",
   "execution_count": null,
   "metadata": {
    "scrolled": true,
    "slideshow": {
     "slide_type": "subslide"
    }
   },
   "outputs": [],
   "source": [
    "a = \"Hello World\";\n",
    "print(a)\n",
    "\n",
    "b = '!!!'\n",
    "a = a + b\n",
    "print(a)\n",
    "\n",
    "#a = a + 1\n",
    "#print a"
   ]
  },
  {
   "cell_type": "code",
   "execution_count": null,
   "metadata": {
    "slideshow": {
     "slide_type": "subslide"
    }
   },
   "outputs": [],
   "source": [
    "a = \"Hello World\"\n",
    "print(a[0])\n",
    "print(a[1])\n",
    "print(a[2])"
   ]
  },
  {
   "cell_type": "code",
   "execution_count": null,
   "metadata": {
    "slideshow": {
     "slide_type": "fragment"
    }
   },
   "outputs": [],
   "source": [
    "print(a[-1])\n",
    "print(a[-2])"
   ]
  },
  {
   "cell_type": "code",
   "execution_count": null,
   "metadata": {
    "slideshow": {
     "slide_type": "fragment"
    }
   },
   "outputs": [],
   "source": [
    "print(a[0:2])\n",
    "print(a[:4:2])\n",
    "print(a[::-1])"
   ]
  },
  {
   "cell_type": "markdown",
   "metadata": {
    "slideshow": {
     "slide_type": "slide"
    }
   },
   "source": [
    "# Collections\n",
    "## Listen (Arrays)"
   ]
  },
  {
   "cell_type": "code",
   "execution_count": null,
   "metadata": {
    "slideshow": {
     "slide_type": "fragment"
    }
   },
   "outputs": [],
   "source": [
    "a = [2, 5, 8, 'Apfel', 'Birne']\n",
    "print(a)\n",
    "a += [3]\n",
    "print(a)\n",
    "a = ['Null'] + a\n",
    "print(a)"
   ]
  },
  {
   "cell_type": "code",
   "execution_count": null,
   "metadata": {
    "slideshow": {
     "slide_type": "fragment"
    }
   },
   "outputs": [],
   "source": [
    "a[2:3] += [1, 1]\n",
    "print(a)"
   ]
  },
  {
   "cell_type": "code",
   "execution_count": null,
   "metadata": {
    "slideshow": {
     "slide_type": "fragment"
    }
   },
   "outputs": [],
   "source": [
    "a[2] = 'Nix'\n",
    "print(a)"
   ]
  },
  {
   "cell_type": "code",
   "execution_count": null,
   "metadata": {
    "slideshow": {
     "slide_type": "subslide"
    }
   },
   "outputs": [],
   "source": [
    "a = ['Null', 2, 'Nix', 1, 1, 8, 'Apfel', 'Birne', 3]\n",
    "a[0:3] = []\n",
    "print(a)\n",
    "a[:] = []\n",
    "print(a)"
   ]
  },
  {
   "cell_type": "code",
   "execution_count": null,
   "metadata": {
    "slideshow": {
     "slide_type": "subslide"
    }
   },
   "outputs": [],
   "source": [
    "a = [2, 5, 8]\n",
    "print(len(a))\n",
    "a.append('hallo')\n",
    "print(a)\n",
    "a.reverse()\n",
    "print(a)\n",
    "a.insert(2, 3)\n",
    "print(a)"
   ]
  },
  {
   "cell_type": "code",
   "execution_count": null,
   "metadata": {
    "slideshow": {
     "slide_type": "subslide"
    }
   },
   "outputs": [],
   "source": [
    "a = [4, 3, 8, 2, 3, 4]\n",
    "a.sort()\n",
    "print(a)\n",
    "b = [3, 'b', 1, 'a']\n",
    "b.sort()\n",
    "print(b)"
   ]
  },
  {
   "cell_type": "markdown",
   "metadata": {
    "slideshow": {
     "slide_type": "subslide"
    }
   },
   "source": [
    "## Sets (Liste ohne doppelte Einträge)"
   ]
  },
  {
   "cell_type": "code",
   "execution_count": null,
   "metadata": {
    "slideshow": {
     "slide_type": "fragment"
    }
   },
   "outputs": [],
   "source": [
    "a = {0, 1, 2, 1, 2}\n",
    "print(a)\n",
    "a.update({2, 3})\n",
    "print(a)\n",
    "b = [4, 3, 8, 2, 3, 4]\n",
    "b = list(set(b))\n",
    "print(b)"
   ]
  },
  {
   "cell_type": "markdown",
   "metadata": {
    "slideshow": {
     "slide_type": "subslide"
    }
   },
   "source": [
    "## Dictionaries (Maps)"
   ]
  },
  {
   "cell_type": "code",
   "execution_count": null,
   "metadata": {
    "slideshow": {
     "slide_type": "fragment"
    }
   },
   "outputs": [],
   "source": [
    "a = {\"a\": 1, \"c\": 3, \"b\": 2}\n",
    "print(a)\n",
    "#print a[0]\n",
    "print(a[\"a\"])\n",
    "print(a.keys())\n",
    "print(a.values())\n",
    "del a[\"a\"]\n",
    "print(a)"
   ]
  },
  {
   "cell_type": "markdown",
   "metadata": {
    "slideshow": {
     "slide_type": "subslide"
    }
   },
   "source": [
    "## Tupel"
   ]
  },
  {
   "cell_type": "code",
   "execution_count": null,
   "metadata": {
    "slideshow": {
     "slide_type": "fragment"
    }
   },
   "outputs": [],
   "source": [
    "a = 1, 2, 3\n",
    "print(a)\n",
    "b = (4, 5)\n",
    "print(b)\n",
    "print(a[0:2])\n",
    "#a[0] = 6\n",
    "c = ([1, 2], [3, 4])\n",
    "c[0][0] = 5\n",
    "print(c)"
   ]
  },
  {
   "cell_type": "markdown",
   "metadata": {
    "slideshow": {
     "slide_type": "slide"
    }
   },
   "source": [
    "# Programmfluss\n",
    "- Keine ; in Python\n",
    "- Einrückungen für Scopes\n",
    "- Nicht Tabs/Spaces mischen!"
   ]
  },
  {
   "cell_type": "code",
   "execution_count": null,
   "metadata": {
    "slideshow": {
     "slide_type": "fragment"
    }
   },
   "outputs": [],
   "source": [
    "#Fibonacci\n",
    "a, b, N = 0, 1, 10\n",
    "while b < N:\n",
    "    print(b)\n",
    "    a, b = b, a + b"
   ]
  },
  {
   "cell_type": "code",
   "execution_count": null,
   "metadata": {
    "slideshow": {
     "slide_type": "subslide"
    }
   },
   "outputs": [],
   "source": [
    "a = [3, 7, 2, 1]\n",
    "for i in a:\n",
    "    print(i ** 2)"
   ]
  },
  {
   "cell_type": "code",
   "execution_count": null,
   "metadata": {
    "slideshow": {
     "slide_type": "subslide"
    }
   },
   "outputs": [],
   "source": [
    "print(range(3))\n",
    "print(xrange(3))"
   ]
  },
  {
   "cell_type": "code",
   "execution_count": null,
   "metadata": {
    "slideshow": {
     "slide_type": "fragment"
    }
   },
   "outputs": [],
   "source": [
    "for i in xrange(0, 50, 2):\n",
    "    if i % 3 == 0:\n",
    "        print(i)"
   ]
  },
  {
   "cell_type": "code",
   "execution_count": null,
   "metadata": {
    "slideshow": {
     "slide_type": "subslide"
    }
   },
   "outputs": [],
   "source": [
    "N = 10\n",
    "for n in xrange(2, N):\n",
    "    if n % 3 == 0:\n",
    "        print(n, \"wird ausgelassen\")\n",
    "        continue\n",
    "    if n % 2 == 0:\n",
    "        print(n, \"ist eine gerade Zahl\")\n",
    "    else:\n",
    "        print(n, \"ist eine ungerade Zahl\")"
   ]
  },
  {
   "cell_type": "code",
   "execution_count": null,
   "metadata": {
    "slideshow": {
     "slide_type": "subslide"
    }
   },
   "outputs": [],
   "source": [
    "N = 10\n",
    "for n in xrange(2, N):\n",
    "    for x in xrange(2, n):\n",
    "        if n % x == 0:\n",
    "            break\n",
    "    else:\n",
    "        print(n, \"ist eine Primzahl\")"
   ]
  },
  {
   "cell_type": "code",
   "execution_count": null,
   "metadata": {
    "scrolled": false,
    "slideshow": {
     "slide_type": "slide"
    }
   },
   "outputs": [],
   "source": [
    "from IPython.display import HTML\n",
    "url = 'https://www.mentimeter.com/s/aa671b9a34cffbb441407e4ea4e68a96/40087fe4cf5d/'\n",
    "iframe = '<iframe src=' + url + ' onload=\"this.width=0.9*screen.width; this.height=0.45*screen.height;\"></iframe>'\n",
    "HTML(iframe)"
   ]
  },
  {
   "cell_type": "markdown",
   "metadata": {
    "slideshow": {
     "slide_type": "slide"
    }
   },
   "source": [
    "# Funktionen und Strukturen\n",
    "- Abstraktion\n",
    "- Wiederverwendung\n",
    "- Testbarkeit\n",
    "- Struktur\n",
    "- Lesbarkeit\n",
    "- Objekt Orientiertes Programmieren"
   ]
  },
  {
   "cell_type": "markdown",
   "metadata": {
    "slideshow": {
     "slide_type": "slide"
    }
   },
   "source": [
    "## Funktionen"
   ]
  },
  {
   "cell_type": "code",
   "execution_count": null,
   "metadata": {
    "slideshow": {
     "slide_type": "fragment"
    }
   },
   "outputs": [],
   "source": [
    "def fibonacci(N):\n",
    "    a, b = 0, 1\n",
    "    f = [a, b]\n",
    "    while b < N:\n",
    "        a, b = b, a + b\n",
    "        f = f + [b]\n",
    "    return f\n",
    "\n",
    "a = fibonacci(10)\n",
    "print(a)"
   ]
  },
  {
   "cell_type": "code",
   "execution_count": null,
   "metadata": {
    "slideshow": {
     "slide_type": "subslide"
    }
   },
   "outputs": [],
   "source": [
    "def default(a, b = 42, c = 2):\n",
    "    print(a + b - c)\n",
    "    \n",
    "default(10, 12, 3)\n",
    "default(10)\n",
    "default(3, b = 4, c = 3)\n",
    "default(3, c = 3, b = 4)"
   ]
  },
  {
   "cell_type": "code",
   "execution_count": null,
   "metadata": {
    "slideshow": {
     "slide_type": "subslide"
    }
   },
   "outputs": [],
   "source": [
    "a = 5\n",
    "\n",
    "def globalScope():\n",
    "    global a\n",
    "    a = a + 1\n",
    "\n",
    "print(a)\n",
    "globalScope()\n",
    "print(a)"
   ]
  },
  {
   "cell_type": "code",
   "execution_count": null,
   "metadata": {
    "slideshow": {
     "slide_type": "subslide"
    }
   },
   "outputs": [],
   "source": [
    "def modify(a):\n",
    "    a.append(5)\n",
    "    \n",
    "def reassign(a):\n",
    "    a = a + [3]\n",
    "    \n",
    "a = [3]\n",
    "print(a)\n",
    "modify(a)\n",
    "print(a)\n",
    "reassign(a)\n",
    "print(a)"
   ]
  },
  {
   "cell_type": "markdown",
   "metadata": {
    "slideshow": {
     "slide_type": "subslide"
    }
   },
   "source": [
    "## Klassen\n"
   ]
  },
  {
   "cell_type": "code",
   "execution_count": null,
   "metadata": {
    "slideshow": {
     "slide_type": "fragment"
    }
   },
   "outputs": [],
   "source": [
    "class Mathe:\n",
    "    msg = \"\"\n",
    "    \n",
    "    def __init__(self):\n",
    "        self.msg = \"Hallo :-)\";\n",
    "    \n",
    "    def message(self):\n",
    "        print(self.msg)\n",
    "    \n",
    "    def fibonacci(self, N = 5):\n",
    "        self.message()\n",
    "        \n",
    "        a, b = 0, 1\n",
    "        f = [a, b]\n",
    "        while b < N:\n",
    "            a, b = b, a + b\n",
    "            f = f + [b]\n",
    "        return f\n",
    "\n",
    "m = Mathe()\n",
    "print(m.fibonacci())"
   ]
  },
  {
   "cell_type": "code",
   "execution_count": null,
   "metadata": {
    "slideshow": {
     "slide_type": "subslide"
    }
   },
   "outputs": [],
   "source": [
    "class Auto:\n",
    "    farbe = \"\"\n",
    "    \n",
    "    def __init__(self, farbe):\n",
    "        self.farbe = farbe\n",
    "        \n",
    "    def beschreibung(self):\n",
    "        print(\"Ein Auto mit der Farbe\", self.farbe)\n",
    "        \n",
    "class Ferrari(Auto):\n",
    "    ps = 0\n",
    "    \n",
    "    def __init__(self, farbe, ps):\n",
    "        Auto.__init__(self, farbe)\n",
    "        self.ps = ps\n",
    "    \n",
    "    def beschreibung(self):\n",
    "        print(\"Ein Ferrari mit der Farbe\", self.farbe, \"und\", self.ps, \"PS\")\n",
    "        \n",
    "f = Ferrari(\"rot\", 400)\n",
    "f.beschreibung()"
   ]
  },
  {
   "cell_type": "markdown",
   "metadata": {
    "slideshow": {
     "slide_type": "slide"
    }
   },
   "source": [
    "# Module und Bibliotheken\n",
    "- Organisation von Code in Dateien\n",
    "- Lesbarkeit\n",
    "- Kapselung\n",
    "- Veröffentlichung als Bibliothek\n",
    "- Werden in Bytecode umgesetzt (.pyc)"
   ]
  },
  {
   "cell_type": "code",
   "execution_count": null,
   "metadata": {
    "slideshow": {
     "slide_type": "subslide"
    }
   },
   "outputs": [],
   "source": [
    "#Mathe Klasse von vorhin in Datei mathematik.py schreiben\n",
    "#class Mathe:\n",
    "#    ...\n",
    "#    def fibonacci(self, N = 5):\n",
    "#    ...\n",
    "\n",
    "import mathematik\n",
    "m = mathematik.Mathe()\n",
    "m.fibonacci()"
   ]
  },
  {
   "cell_type": "code",
   "execution_count": null,
   "metadata": {
    "slideshow": {
     "slide_type": "fragment"
    }
   },
   "outputs": [],
   "source": [
    "import mathematik as ma\n",
    "m = ma.Mathe()\n",
    "m.fibonacci()"
   ]
  },
  {
   "cell_type": "code",
   "execution_count": null,
   "metadata": {
    "slideshow": {
     "slide_type": "fragment"
    }
   },
   "outputs": [],
   "source": [
    "from mathematik import Mathe\n",
    "#from mathematik import *\n",
    "m = Mathe()\n",
    "m.fibonacci()"
   ]
  },
  {
   "cell_type": "markdown",
   "metadata": {
    "slideshow": {
     "slide_type": "subslide"
    }
   },
   "source": [
    "## Numpy\n",
    "- Im Standard vorhanden\n",
    "- Allgemein genutzte Erweiterung\n",
    "- Viele Funktionen / Objekte\n",
    "- Mathematik affin\n",
    "- Gute Ausgabe-Darstellungen\n",
    "- Gute Dokumentation! http://www.numpy.org/\n",
    "- Einfach, gut und schnell (C backend)"
   ]
  },
  {
   "cell_type": "code",
   "execution_count": null,
   "metadata": {
    "slideshow": {
     "slide_type": "fragment"
    }
   },
   "outputs": [],
   "source": [
    "import numpy as np\n"
   ]
  },
  {
   "cell_type": "markdown",
   "metadata": {
    "slideshow": {
     "slide_type": "subslide"
    }
   },
   "source": [
    "### Numpy Arrays\n",
    "- Ähnlich zu Listen\n",
    "- Aber doch unterschiedlich\n",
    "- Schnell für große Längen\n",
    "- Besser für Rechnungen!\n",
    "- Multidimensional\n",
    "- Viele Mathe Funktionen verfügbar"
   ]
  },
  {
   "cell_type": "code",
   "execution_count": null,
   "metadata": {
    "slideshow": {
     "slide_type": "subslide"
    }
   },
   "outputs": [],
   "source": [
    "import numpy as np\n",
    "\n",
    "a = np.arange(12)\n",
    "print a\n",
    "b = a.reshape(3,4)\n",
    "print(b)\n",
    "print(b.ndim)\n",
    "print(b.shape)\n",
    "print(b.size)"
   ]
  },
  {
   "cell_type": "code",
   "execution_count": null,
   "metadata": {
    "slideshow": {
     "slide_type": "subslide"
    }
   },
   "outputs": [],
   "source": [
    "a = [3, 6, 4]\n",
    "print(a)\n",
    "b = np.array(a)\n",
    "print(b)"
   ]
  },
  {
   "cell_type": "code",
   "execution_count": null,
   "metadata": {
    "slideshow": {
     "slide_type": "fragment"
    }
   },
   "outputs": [],
   "source": [
    "a = a + a #Konkatenation\n",
    "print(a)\n",
    "b = b + b #Mathematisches addieren elementweise\n",
    "print(b)"
   ]
  },
  {
   "cell_type": "code",
   "execution_count": null,
   "metadata": {
    "slideshow": {
     "slide_type": "fragment"
    }
   },
   "outputs": [],
   "source": [
    "a = a * 2 #Das Selbe wieder\n",
    "print(a)\n",
    "b = b * 2 #Elementweise mathematisches \"mal\"\n",
    "print(b)"
   ]
  },
  {
   "cell_type": "code",
   "execution_count": null,
   "metadata": {
    "slideshow": {
     "slide_type": "subslide"
    }
   },
   "outputs": [],
   "source": [
    "print(np.zeros((3, 2)))\n",
    "print(np.eye(3))\n",
    "print(np.ones((2, 3)))\n",
    "print(np.linspace(0, 2, 9))"
   ]
  },
  {
   "cell_type": "code",
   "execution_count": null,
   "metadata": {
    "slideshow": {
     "slide_type": "fragment"
    }
   },
   "outputs": [],
   "source": [
    "a = np.linspace(0, 2*np.pi, 11)\n",
    "sa = np.sin(a)\n",
    "print(sa)\n",
    "print(np.min(sa), np.max(sa), np.sum(sa))\n",
    "print(np.cumsum(sa))\n",
    "print(np.exp(np.log(4)))"
   ]
  },
  {
   "cell_type": "code",
   "execution_count": null,
   "metadata": {
    "slideshow": {
     "slide_type": "subslide"
    }
   },
   "outputs": [],
   "source": [
    "a = np.array([1, 2, 3])\n",
    "b = np.array([1, 2, 3])\n",
    "print(a * b)\n",
    "print(np.dot(a, b))\n",
    "print(np.cross(a, b))\n",
    "c = np.transpose(b.reshape(1,3))\n",
    "print(c)"
   ]
  },
  {
   "cell_type": "code",
   "execution_count": null,
   "metadata": {
    "slideshow": {
     "slide_type": "fragment"
    }
   },
   "outputs": [],
   "source": [
    "a = np.array([[1,1], [0,1]])\n",
    "b = np.array([[2,0], [3,4]])\n",
    "print(a * b)\n",
    "print(np.dot(a, b))\n",
    "print(np.matmul(a, b))"
   ]
  },
  {
   "cell_type": "markdown",
   "metadata": {
    "slideshow": {
     "slide_type": "subslide"
    }
   },
   "source": [
    "### Kopieren\n",
    "- Shallow Copy\n",
    "- Deep Copy"
   ]
  },
  {
   "cell_type": "code",
   "execution_count": null,
   "metadata": {
    "slideshow": {
     "slide_type": "fragment"
    }
   },
   "outputs": [],
   "source": [
    "a = [1, 2, 3]\n",
    "b = a\n",
    "a[0] += 5\n",
    "print(b)"
   ]
  },
  {
   "cell_type": "code",
   "execution_count": null,
   "metadata": {
    "slideshow": {
     "slide_type": "fragment"
    }
   },
   "outputs": [],
   "source": [
    "a = np.array([1, 2, 3])\n",
    "b = a\n",
    "a[0] += 5\n",
    "print(b)"
   ]
  },
  {
   "cell_type": "code",
   "execution_count": null,
   "metadata": {
    "slideshow": {
     "slide_type": "fragment"
    }
   },
   "outputs": [],
   "source": [
    "a = np.array([1, 2, 3])\n",
    "b = a.copy()\n",
    "a[0] += 5\n",
    "print(b)"
   ]
  },
  {
   "cell_type": "markdown",
   "metadata": {
    "slideshow": {
     "slide_type": "subslide"
    }
   },
   "source": [
    "## System\n",
    "- Meta Informationen zum aktuellen Programm\n",
    "- Systeminformationen\n",
    "- stdin, stdout, stderr"
   ]
  },
  {
   "cell_type": "code",
   "execution_count": null,
   "metadata": {
    "slideshow": {
     "slide_type": "fragment"
    }
   },
   "outputs": [],
   "source": [
    "import sys\n",
    "\n",
    "sys.exit(\"Meine Fehlermeldung\")"
   ]
  },
  {
   "cell_type": "code",
   "execution_count": null,
   "metadata": {
    "slideshow": {
     "slide_type": "subslide"
    }
   },
   "outputs": [],
   "source": [
    "from IPython.display import HTML\n",
    "url = 'https://www.mentimeter.com/s/168c8a5b37dc13ca742bc83dadc07c22/012f064c0967'\n",
    "iframe = '<iframe src=' + url + ' onload=\"this.width=0.9*screen.width; this.height=0.45*screen.height;\"></iframe>'\n",
    "HTML(iframe)"
   ]
  },
  {
   "cell_type": "markdown",
   "metadata": {
    "slideshow": {
     "slide_type": "slide"
    }
   },
   "source": [
    "# Plotten\n",
    "## Grundlagen\n",
    "Pyplot Bibliothek:"
   ]
  },
  {
   "cell_type": "code",
   "execution_count": null,
   "metadata": {
    "slideshow": {
     "slide_type": "-"
    }
   },
   "outputs": [],
   "source": [
    "import matplotlib.pyplot as plt"
   ]
  },
  {
   "cell_type": "code",
   "execution_count": null,
   "metadata": {
    "slideshow": {
     "slide_type": "subslide"
    }
   },
   "outputs": [],
   "source": [
    "#Jupyter magic\n",
    "%matplotlib inline\n",
    "%config InlineBackend.figure_format = 'svg'\n",
    "#Bibliotheken\n",
    "import numpy as np\n",
    "import matplotlib.pyplot as plt\n",
    "#Abkürzung\n",
    "pi = np.pi\n",
    "#Array an 1000 x-Werten von -4pi bis 4pi\n",
    "x = np.linspace(-4*pi, 4*pi, 1000)\n",
    "#x gegen sinc(x) plotten\n",
    "plt.plot(x, np.sin(x)/x)\n",
    "#Anzeigen\n",
    "plt.show()"
   ]
  },
  {
   "cell_type": "code",
   "execution_count": null,
   "metadata": {
    "scrolled": true,
    "slideshow": {
     "slide_type": "subslide"
    }
   },
   "outputs": [],
   "source": [
    "%matplotlib inline\n",
    "%config InlineBackend.figure_format = 'svg'\n",
    "import numpy as np\n",
    "import matplotlib.pyplot as plt\n",
    "pi = np.pi\n",
    "x = np.linspace(-4*pi, 4*pi, 1000)\n",
    "#Plot & Font Größe\n",
    "plt.rcParams['figure.figsize'] = (15,4)\n",
    "plt.rcParams.update({'font.size':17})\n",
    "#Eigene Achsen\n",
    "plt.yticks([0,1], ['$0$','$1$'])\n",
    "plt.xticks([-4*pi,-2*pi,0,2*pi,4*pi,],['$-4\\pi$','$-2\\pi$','$0$','$2\\pi$','$4\\pi$'])\n",
    "#Horizontale Linie\n",
    "plt.axhline(0, color='black', lw=1)\n",
    "plt.plot(x, np.sin(x)/x, label=r'$f(x)=\\frac{\\sin(x)}{x}$')\n",
    "#Achsen Range\n",
    "plt.ylim(-0.5,1.5)\n",
    "#Titel\n",
    "plt.title('Die $sinc$ Funktion')\n",
    "#Legende\n",
    "plt.legend(loc='best', fontsize=20)\n",
    "plt.show()"
   ]
  },
  {
   "cell_type": "code",
   "execution_count": null,
   "metadata": {
    "slideshow": {
     "slide_type": "subslide"
    }
   },
   "outputs": [],
   "source": [
    "%matplotlib inline\n",
    "%config InlineBackend.figure_format = 'svg'\n",
    "import numpy as np\n",
    "import matplotlib.pyplot as plt\n",
    "\n",
    "x = np.random.randint(0, 1E5, 50)\n",
    "y = np.random.randint(0, 50, 50)\n",
    "s = np.random.randint(0, 256, 50)\n",
    "plt.xscale('log')\n",
    "c = np.random.randint(0, 256, 50)\n",
    "plt.scatter(x, y, s=s, c=c)\n",
    "plt.show()"
   ]
  },
  {
   "cell_type": "code",
   "execution_count": null,
   "metadata": {
    "slideshow": {
     "slide_type": "subslide"
    }
   },
   "outputs": [],
   "source": [
    "%matplotlib inline\n",
    "%config InlineBackend.figure_format = 'svg'\n",
    "import numpy as np\n",
    "import matplotlib.pyplot as plt\n",
    "\n",
    "mu, sigma = 100, 15\n",
    "x = mu + sigma * np.random.randn(10000)\n",
    "\n",
    "n, bins, patches = plt.hist(x, 50)\n",
    "\n",
    "plt.text(50, 400, r\"$\\mu=100,\\ \\sigma=15$\")\n",
    "\n",
    "plt.show()"
   ]
  },
  {
   "cell_type": "markdown",
   "metadata": {
    "slideshow": {
     "slide_type": "subslide"
    }
   },
   "source": [
    "## IO"
   ]
  },
  {
   "cell_type": "code",
   "execution_count": null,
   "metadata": {
    "slideshow": {
     "slide_type": "-"
    }
   },
   "outputs": [],
   "source": [
    "%matplotlib inline\n",
    "%config InlineBackend.figure_format = 'svg'\n",
    "import numpy as np\n",
    "import matplotlib.pyplot as plt\n",
    "\n",
    "x, y = np.random.randint(0, 50, 50), np.random.randint(0, 50, 50)\n",
    "np.savetxt('mydata.txt', [x, y])"
   ]
  },
  {
   "cell_type": "code",
   "execution_count": null,
   "metadata": {
    "slideshow": {
     "slide_type": "subslide"
    }
   },
   "outputs": [],
   "source": [
    "%%bash\n",
    "cat mydata.txt"
   ]
  },
  {
   "cell_type": "code",
   "execution_count": null,
   "metadata": {
    "slideshow": {
     "slide_type": "subslide"
    }
   },
   "outputs": [],
   "source": [
    "data = np.loadtxt('mydata.txt')\n",
    "plt.plot(data[0], data[1], '-r*')\n",
    "plt.plot(data[1], data[0], 'b+')\n",
    "plt.show()"
   ]
  },
  {
   "cell_type": "markdown",
   "metadata": {
    "slideshow": {
     "slide_type": "subslide"
    }
   },
   "source": [
    "## Fitten"
   ]
  },
  {
   "cell_type": "code",
   "execution_count": null,
   "metadata": {
    "slideshow": {
     "slide_type": "subslide"
    }
   },
   "outputs": [],
   "source": [
    "%matplotlib inline\n",
    "%config InlineBackend.figure_format = 'svg'\n",
    "import numpy as np\n",
    "import matplotlib.pyplot as plt\n",
    "\n",
    "N = 100\n",
    "x = np.linspace(-10, 10, N)\n",
    "y = 4*x**3 - x**2 + 2*x -5\n",
    "m = np.mean(np.abs(y)) * 0.5\n",
    "y += np.random.uniform(0, m, N)\n",
    "\n",
    "plt.plot(x, y, label=\"Daten\")\n",
    "\n",
    "c = np.polyfit(x, y, 3)\n",
    "yf = c[0]*x**3 + c[1]*x**2 + c[2]*x + c[3]\n",
    "\n",
    "plt.plot(x, yf, 'r', label=\"Fit\")\n",
    "\n",
    "plt.legend(loc='best', fontsize=12)\n",
    "plt.show()"
   ]
  },
  {
   "cell_type": "code",
   "execution_count": null,
   "metadata": {
    "slideshow": {
     "slide_type": "subslide"
    }
   },
   "outputs": [],
   "source": [
    "%matplotlib inline\n",
    "%config InlineBackend.figure_format = 'svg'\n",
    "import numpy as np\n",
    "import matplotlib.pyplot as plt\n",
    "import scipy.optimize as sc\n",
    "\n",
    "def gauss(x, a, b, c):\n",
    "    return a * np.exp(-(x-b)**2/(2*c**2))\n",
    "\n",
    "N = 100\n",
    "x = np.linspace(-10, 10, N)\n",
    "y = gauss(x, 2, 1, 2)\n",
    "m = np.mean(np.abs(y)) * 0.5\n",
    "y += np.random.uniform(0, m, N)\n",
    "\n",
    "plt.plot(x, y, label=\"Daten\")\n",
    "    \n",
    "coeff, cov = sc.curve_fit(gauss, x, y)\n",
    "yf = gauss(x, *coeff)\n",
    "\n",
    "plt.plot(x, yf, 'r', label=\"Fit\")\n",
    "\n",
    "plt.legend(loc='best', fontsize=12)\n",
    "plt.show()"
   ]
  },
  {
   "cell_type": "code",
   "execution_count": null,
   "metadata": {
    "slideshow": {
     "slide_type": "subslide"
    }
   },
   "outputs": [],
   "source": [
    "%matplotlib inline\n",
    "%config InlineBackend.figure_format = 'svg'\n",
    "import numpy as np\n",
    "import matplotlib.pyplot as plt\n",
    "\n",
    "def gauss2D(x, y, a, b, c, d):\n",
    "    return a * np.exp(-(((x-b)**2 + (y-c)**2) / (2*d**2)))\n",
    "\n",
    "N = 100\n",
    "x, y = np.linspace(-10, 10, N), np.linspace(-10, 10, N)\n",
    "x, y = np.meshgrid(x, y)\n",
    "z = gauss2D(x, y, 1.0, 0.0, 0.0, 8.0)\n",
    "\n",
    "img = plt.imshow(z, extent=[-10,10,10,-10])\n",
    "plt.colorbar(img)\n",
    "plt.contour(x, y, z, colors=\"red\")\n",
    "\n",
    "plt.show()"
   ]
  },
  {
   "cell_type": "code",
   "execution_count": null,
   "metadata": {
    "slideshow": {
     "slide_type": "subslide"
    }
   },
   "outputs": [],
   "source": [
    "%matplotlib inline\n",
    "%config InlineBackend.figure_format = 'svg'\n",
    "import numpy as np\n",
    "import matplotlib.pyplot as plt\n",
    "\n",
    "N, m = 10, 10\n",
    "x, y = np.linspace(-m, m, N), np.linspace(-m, m, N)\n",
    "x, y = np.meshgrid(x, y)\n",
    "\n",
    "#vx, vy = np.random.uniform(-m, m, N), np.random.uniform(-m, m, N)\n",
    "#vx, vy = np.meshgrid(vx, vy)\n",
    "vx = -1 - x**2 + y\n",
    "vy = 1 + x - y**2\n",
    "\n",
    "plt.streamplot(x, y, vx, vy)\n",
    "plt.show()"
   ]
  },
  {
   "cell_type": "code",
   "execution_count": null,
   "metadata": {
    "slideshow": {
     "slide_type": "slide"
    }
   },
   "outputs": [],
   "source": [
    "from IPython.display import HTML\n",
    "url = 'https://www.mentimeter.com/s/792d3aa3784038121e8e9cc39fec8a92/e679f9ca12de'\n",
    "iframe = '<iframe src=' + url + ' onload=\"this.width=0.9*screen.width; this.height=0.45*screen.height;\"></iframe>'\n",
    "HTML(iframe)"
   ]
  }
 ],
 "metadata": {
  "celltoolbar": "Slideshow",
  "kernelspec": {
   "display_name": "Python 2",
   "language": "python",
   "name": "python2"
  },
  "language_info": {
   "codemirror_mode": {
    "name": "ipython",
    "version": 2
   },
   "file_extension": ".py",
   "mimetype": "text/x-python",
   "name": "python",
   "nbconvert_exporter": "python",
   "pygments_lexer": "ipython2",
   "version": "2.7.12"
  }
 },
 "nbformat": 4,
 "nbformat_minor": 2
}
