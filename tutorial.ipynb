{
 "cells": [
  {
   "cell_type": "code",
   "execution_count": 1,
   "metadata": {
    "scrolled": true,
    "slideshow": {
     "slide_type": "slide"
    }
   },
   "outputs": [
    {
     "data": {
      "text/html": [
       "<iframe src=https://www.mentimeter.com/s/083354a5b3b0ccce66d41db1e641c681/b7cbecbf89a5 onload=\"this.width=0.9*screen.width; this.height=0.45*screen.height;\"></iframe>"
      ],
      "text/plain": [
       "<IPython.core.display.HTML object>"
      ]
     },
     "execution_count": 1,
     "metadata": {},
     "output_type": "execute_result"
    }
   ],
   "source": [
    "from IPython.display import HTML\n",
    "url = 'https://www.mentimeter.com/s/083354a5b3b0ccce66d41db1e641c681/b7cbecbf89a5'\n",
    "iframe = '<iframe src=' + url + ' onload=\"this.width=0.9*screen.width; this.height=0.45*screen.height;\"></iframe>'\n",
    "HTML(iframe)"
   ]
  },
  {
   "cell_type": "markdown",
   "metadata": {
    "slideshow": {
     "slide_type": "subslide"
    }
   },
   "source": [
    "## Warum programmieren?\n",
    "* Komplexe Problemstellung\n",
    "* Abstraktion möglich\n",
    "* Von Zeitaufwändige Berechnungen\n",
    "* Bis Automatisierung"
   ]
  },
  {
   "cell_type": "markdown",
   "metadata": {
    "slideshow": {
     "slide_type": "subslide"
    }
   },
   "source": [
    "## Selbst programmieren oder Tools nutzen?\n",
    "- Das Problem richtig kennen lernen\n",
    "- Lösungsweg in Physik oft wichtiger als Lösung\n",
    "- Optimierungen erst nach und nach möglich\n",
    "- Trotzdem: nicht immer das Rad neu erfinden\n",
    "- Viele Tools & Libraries nutzbar:\n",
    "    - Zeitersparnis\n",
    "    - Black Box"
   ]
  },
  {
   "cell_type": "markdown",
   "metadata": {
    "slideshow": {
     "slide_type": "subslide"
    }
   },
   "source": [
    "## Wie programmiere ich?\n",
    "* Programmiersprache\n",
    "* Compiler / Interpreter\n",
    "* $\\Rightarrow$ Maschinencode\n",
    "* High vs Low Level\n",
    "* Hardware Spezifisch\n",
    "* Paradigmen\n",
    "* Patterns"
   ]
  },
  {
   "cell_type": "markdown",
   "metadata": {
    "slideshow": {
     "slide_type": "slide"
    }
   },
   "source": [
    "# Python Grundlagen\n",
    "- Python Interpreter für jedes Betriebssystem\n",
    "- Achtung: Python Version 2 vs 3!\n",
    "- Tutorial zum Nachschlagen: https://py-tutorial-de.readthedocs.io/de/python-3.3/\n",
    "- Interaktiv vs Scripts\n",
    "- Kommandozeile:"
   ]
  },
  {
   "cell_type": "raw",
   "metadata": {
    "slideshow": {
     "slide_type": "-"
    }
   },
   "source": [
    "python"
   ]
  },
  {
   "cell_type": "code",
   "execution_count": 102,
   "metadata": {
    "scrolled": true,
    "slideshow": {
     "slide_type": "fragment"
    }
   },
   "outputs": [
    {
     "name": "stdout",
     "output_type": "stream",
     "text": [
      "Hello Worldhjguh\n",
      "Hello Script\n"
     ]
    }
   ],
   "source": [
    "%%bash\n",
    "python -c \"print 'Hello World'\"\n",
    "\n",
    "echo \"print 'Hello Script'\" > tmp.py\n",
    "python < tmp.py"
   ]
  },
  {
   "cell_type": "markdown",
   "metadata": {
    "slideshow": {
     "slide_type": "subslide"
    }
   },
   "source": [
    "## Was ist das hier?\n",
    "- $ipython$ Interpreter\n",
    "- Eine Abstraktionsebene höher\n",
    "- Jupyter Notebook\n",
    "- Urpsrünglich für JUlia, PYThon, R\n",
    "- Server / Client Architektur"
   ]
  },
  {
   "cell_type": "markdown",
   "metadata": {
    "slideshow": {
     "slide_type": "subslide"
    }
   },
   "source": [
    "## Wie installiere ich Python?\n",
    "- Oft vorinstalliert\n",
    "- Package Manager: z.B. apt-get install python\n",
    "- Download von https://www.python.org/"
   ]
  },
  {
   "cell_type": "markdown",
   "metadata": {
    "slideshow": {
     "slide_type": "fragment"
    }
   },
   "source": [
    "## Wie installiere ich weitere Pakete für Python?"
   ]
  },
  {
   "cell_type": "raw",
   "metadata": {
    "slideshow": {
     "slide_type": "-"
    }
   },
   "source": [
    "pip install --upgrade pip\n",
    "pip install --user --upgrade numpy"
   ]
  },
  {
   "cell_type": "markdown",
   "metadata": {
    "slideshow": {
     "slide_type": "subslide"
    }
   },
   "source": [
    "## Was brauche ich noch zum Programmieren?\n",
    "- Editor\n",
    "    - Vim / Emacs Familie\n",
    "    - Jeder normale/guteTexteditor (NICHT Windows Editor)\n",
    "    - Eclipse\n",
    "    - NetBeans\n",
    "    - Visual Studio\n",
    "    - IntelliJ\n",
    "    - PyCharm\n",
    "    - ...\n",
    "- Etwas Hilfe zum Start\n",
    "- Ein Projekt\n",
    "- Google\n",
    "- Viel Übung!"
   ]
  },
  {
   "cell_type": "markdown",
   "metadata": {
    "slideshow": {
     "slide_type": "slide"
    }
   },
   "source": [
    "# Prorammieren: 1x1\n",
    "# Kommentare\n",
    "- Zusatzinfos für den Leser / Programmierer\n",
    "- Schnelles Debuggen"
   ]
  },
  {
   "cell_type": "code",
   "execution_count": null,
   "metadata": {
    "slideshow": {
     "slide_type": "fragment"
    }
   },
   "outputs": [],
   "source": [
    "#Das ist ein Kommentar\n",
    "'''\n",
    "Das auch aber\n",
    "mehrzeilig.\n",
    "Naja, sowas ähnliches...\n",
    "'''"
   ]
  },
  {
   "cell_type": "markdown",
   "metadata": {
    "slideshow": {
     "slide_type": "subslide"
    }
   },
   "source": [
    "# Variablen\n",
    "- Wie in Mathe!\n",
    "- Speichern einen gewissen Zustand\n",
    "- Haben einen Typ und einen Wert (primitiv)\n",
    "- Python: Dynamisch typisiert\n",
    "- Komplexere Strukturen möglich"
   ]
  },
  {
   "cell_type": "code",
   "execution_count": null,
   "metadata": {
    "slideshow": {
     "slide_type": "fragment"
    }
   },
   "outputs": [],
   "source": [
    "a = 13\n",
    "print a\n",
    "b = a - 4\n",
    "print b\n",
    "b += 1\n",
    "print b"
   ]
  },
  {
   "cell_type": "code",
   "execution_count": 5,
   "metadata": {
    "slideshow": {
     "slide_type": "subslide"
    }
   },
   "outputs": [
    {
     "name": "stdout",
     "output_type": "stream",
     "text": [
      "1\n"
     ]
    }
   ],
   "source": [
    "a = 4\n",
    "b = 3\n",
    "print a/b"
   ]
  },
  {
   "cell_type": "code",
   "execution_count": 3,
   "metadata": {
    "slideshow": {
     "slide_type": "fragment"
    }
   },
   "outputs": [
    {
     "name": "stdout",
     "output_type": "stream",
     "text": [
      "1.33333333333\n"
     ]
    }
   ],
   "source": [
    "a = 4.0\n",
    "b = 3\n",
    "print a/b"
   ]
  },
  {
   "cell_type": "code",
   "execution_count": 81,
   "metadata": {
    "scrolled": true,
    "slideshow": {
     "slide_type": "subslide"
    }
   },
   "outputs": [
    {
     "name": "stdout",
     "output_type": "stream",
     "text": [
      "Hello World\n",
      "Hello World!!!\n"
     ]
    }
   ],
   "source": [
    "a = \"Hello World\";\n",
    "print a\n",
    "\n",
    "b = '!!!'\n",
    "a = a + b\n",
    "print a\n",
    "\n",
    "#a = a + 1\n",
    "#print a"
   ]
  },
  {
   "cell_type": "code",
   "execution_count": 13,
   "metadata": {
    "slideshow": {
     "slide_type": "subslide"
    }
   },
   "outputs": [
    {
     "name": "stdout",
     "output_type": "stream",
     "text": [
      "H\n",
      "e\n",
      "l\n"
     ]
    }
   ],
   "source": [
    "a = \"Hello World\"\n",
    "print a[0]\n",
    "print a[1]\n",
    "print a[2]"
   ]
  },
  {
   "cell_type": "code",
   "execution_count": 14,
   "metadata": {
    "slideshow": {
     "slide_type": "fragment"
    }
   },
   "outputs": [
    {
     "name": "stdout",
     "output_type": "stream",
     "text": [
      "d\n",
      "l\n"
     ]
    }
   ],
   "source": [
    "print a[-1]\n",
    "print a[-2]"
   ]
  },
  {
   "cell_type": "code",
   "execution_count": 19,
   "metadata": {
    "slideshow": {
     "slide_type": "fragment"
    }
   },
   "outputs": [
    {
     "name": "stdout",
     "output_type": "stream",
     "text": [
      "He\n",
      "Hl\n",
      "dlroW olleH\n"
     ]
    }
   ],
   "source": [
    "print a[0:2]\n",
    "print a[:4:2]\n",
    "print a[::-1]"
   ]
  },
  {
   "cell_type": "markdown",
   "metadata": {
    "slideshow": {
     "slide_type": "slide"
    }
   },
   "source": [
    "# Collections\n",
    "## Listen (Arrays)"
   ]
  },
  {
   "cell_type": "code",
   "execution_count": 24,
   "metadata": {
    "slideshow": {
     "slide_type": "fragment"
    }
   },
   "outputs": [
    {
     "name": "stdout",
     "output_type": "stream",
     "text": [
      "[2, 5, 8, 'Apfel', 'Birne']\n",
      "[2, 5, 8, 'Apfel', 'Birne', 3]\n",
      "['Null', 2, 5, 8, 'Apfel', 'Birne', 3]\n"
     ]
    }
   ],
   "source": [
    "a = [2, 5, 8, 'Apfel', 'Birne']\n",
    "print a\n",
    "a += [3]\n",
    "print a\n",
    "a = ['Null'] + a\n",
    "print a"
   ]
  },
  {
   "cell_type": "code",
   "execution_count": 29,
   "metadata": {
    "slideshow": {
     "slide_type": "fragment"
    }
   },
   "outputs": [
    {
     "name": "stdout",
     "output_type": "stream",
     "text": [
      "['Null', 2, 5, 1, 1, 1, 1, 8, 'Apfel', 'Birne', 3]\n"
     ]
    }
   ],
   "source": [
    "a[2:3] += [1, 1]\n",
    "print a"
   ]
  },
  {
   "cell_type": "code",
   "execution_count": 30,
   "metadata": {
    "slideshow": {
     "slide_type": "fragment"
    }
   },
   "outputs": [
    {
     "name": "stdout",
     "output_type": "stream",
     "text": [
      "['Null', 2, 'Nix', 1, 1, 1, 1, 8, 'Apfel', 'Birne', 3]\n"
     ]
    }
   ],
   "source": [
    "a[2] = 'Nix'\n",
    "print a"
   ]
  },
  {
   "cell_type": "code",
   "execution_count": 35,
   "metadata": {
    "slideshow": {
     "slide_type": "fragment"
    }
   },
   "outputs": [
    {
     "name": "stdout",
     "output_type": "stream",
     "text": [
      "[]\n",
      "[]\n"
     ]
    }
   ],
   "source": [
    "a[0:3] = []\n",
    "print a\n",
    "a[:] = []\n",
    "print a"
   ]
  },
  {
   "cell_type": "code",
   "execution_count": 40,
   "metadata": {
    "slideshow": {
     "slide_type": "subslide"
    }
   },
   "outputs": [
    {
     "name": "stdout",
     "output_type": "stream",
     "text": [
      "3\n",
      "[2, 5, 8, 'hallo']\n",
      "['hallo', 8, 5, 2]\n",
      "['hallo', 8, 3, 5, 2]\n"
     ]
    }
   ],
   "source": [
    "a = [2, 5, 8]\n",
    "print len(a)\n",
    "a.append('hallo')\n",
    "print a\n",
    "a.reverse()\n",
    "print a\n",
    "a.insert(2, 3)\n",
    "print a"
   ]
  },
  {
   "cell_type": "code",
   "execution_count": 98,
   "metadata": {
    "slideshow": {
     "slide_type": "subslide"
    }
   },
   "outputs": [
    {
     "name": "stdout",
     "output_type": "stream",
     "text": [
      "[2, 3, 3, 4, 4, 8]\n",
      "[1, 3, 'a', 'b']\n"
     ]
    }
   ],
   "source": [
    "a = [4, 3, 8, 2, 3, 4]\n",
    "a.sort()\n",
    "print a\n",
    "b = [3, 'b', 1, 'a']\n",
    "b.sort()\n",
    "print b"
   ]
  },
  {
   "cell_type": "markdown",
   "metadata": {
    "slideshow": {
     "slide_type": "subslide"
    }
   },
   "source": [
    "## Sets (Liste ohne doppelte Einträge)"
   ]
  },
  {
   "cell_type": "code",
   "execution_count": 99,
   "metadata": {
    "slideshow": {
     "slide_type": "fragment"
    }
   },
   "outputs": [
    {
     "name": "stdout",
     "output_type": "stream",
     "text": [
      "set([0, 1, 2])\n",
      "set([0, 1, 2, 3])\n",
      "[8, 2, 3, 4]\n"
     ]
    }
   ],
   "source": [
    "a = {0, 1, 2, 1, 2}\n",
    "print a\n",
    "a.update({2, 3})\n",
    "print a\n",
    "b = [4, 3, 8, 2, 3, 4]\n",
    "b = list(set(b))\n",
    "print b"
   ]
  },
  {
   "cell_type": "markdown",
   "metadata": {
    "slideshow": {
     "slide_type": "subslide"
    }
   },
   "source": [
    "## Dictionaries (Maps)"
   ]
  },
  {
   "cell_type": "code",
   "execution_count": 80,
   "metadata": {
    "slideshow": {
     "slide_type": "fragment"
    }
   },
   "outputs": [
    {
     "name": "stdout",
     "output_type": "stream",
     "text": [
      "{'a': 1, 'c': 3, 'b': 2}\n",
      "1\n",
      "['a', 'c', 'b']\n",
      "[1, 3, 2]\n",
      "{'c': 3, 'b': 2}\n"
     ]
    }
   ],
   "source": [
    "a = {\"a\": 1, \"c\": 3, \"b\": 2}\n",
    "print a\n",
    "#print a[0]\n",
    "print a[\"a\"]\n",
    "print a.keys()\n",
    "print a.values()\n",
    "del a[\"a\"]\n",
    "print a"
   ]
  },
  {
   "cell_type": "markdown",
   "metadata": {
    "slideshow": {
     "slide_type": "subslide"
    }
   },
   "source": [
    "## Tupel"
   ]
  },
  {
   "cell_type": "code",
   "execution_count": 89,
   "metadata": {
    "slideshow": {
     "slide_type": "fragment"
    }
   },
   "outputs": [
    {
     "name": "stdout",
     "output_type": "stream",
     "text": [
      "(1, 2, 3)\n",
      "(4, 5)\n",
      "(1, 2)\n",
      "([5, 2], [3, 4])\n"
     ]
    }
   ],
   "source": [
    "a = 1, 2, 3\n",
    "print a\n",
    "b = (4, 5)\n",
    "print b\n",
    "print a[0:2]\n",
    "#a[0] = 6\n",
    "c = ([1, 2], [3, 4])\n",
    "c[0][0] = 5\n",
    "print c"
   ]
  },
  {
   "cell_type": "markdown",
   "metadata": {
    "slideshow": {
     "slide_type": "slide"
    }
   },
   "source": [
    "# Programmfluss"
   ]
  },
  {
   "cell_type": "code",
   "execution_count": 41,
   "metadata": {
    "slideshow": {
     "slide_type": "fragment"
    }
   },
   "outputs": [
    {
     "name": "stdout",
     "output_type": "stream",
     "text": [
      "1\n",
      "1\n",
      "2\n",
      "3\n",
      "5\n",
      "8\n"
     ]
    }
   ],
   "source": [
    "#Fibonacci\n",
    "a, b, N = 0, 1, 10\n",
    "while b < N:\n",
    "    print(b)\n",
    "    a, b = b, a + b"
   ]
  },
  {
   "cell_type": "code",
   "execution_count": 201,
   "metadata": {
    "slideshow": {
     "slide_type": "subslide"
    }
   },
   "outputs": [
    {
     "name": "stdout",
     "output_type": "stream",
     "text": [
      "9\n",
      "49\n",
      "4\n",
      "1\n"
     ]
    }
   ],
   "source": [
    "a = [3, 7, 2, 1]\n",
    "for i in a:\n",
    "    print i ** 2"
   ]
  },
  {
   "cell_type": "code",
   "execution_count": 52,
   "metadata": {
    "slideshow": {
     "slide_type": "subslide"
    }
   },
   "outputs": [
    {
     "name": "stdout",
     "output_type": "stream",
     "text": [
      "[0, 1, 2]\n",
      "xrange(3)\n"
     ]
    }
   ],
   "source": [
    "print range(3)\n",
    "print xrange(3)"
   ]
  },
  {
   "cell_type": "code",
   "execution_count": 51,
   "metadata": {
    "slideshow": {
     "slide_type": "fragment"
    }
   },
   "outputs": [
    {
     "name": "stdout",
     "output_type": "stream",
     "text": [
      "0\n",
      "6\n",
      "12\n",
      "18\n",
      "24\n",
      "30\n",
      "36\n",
      "42\n",
      "48\n"
     ]
    }
   ],
   "source": [
    "for i in xrange(0, 50, 2):\n",
    "    if i % 3 == 0:\n",
    "        print i"
   ]
  },
  {
   "cell_type": "code",
   "execution_count": 58,
   "metadata": {},
   "outputs": [
    {
     "name": "stdout",
     "output_type": "stream",
     "text": [
      "2 ist eine gerade Zahl\n",
      "3 wird ausgelassen\n",
      "4 ist eine gerade Zahl\n",
      "5 ist eine ungerade Zahl\n",
      "6 wird ausgelassen\n",
      "7 ist eine ungerade Zahl\n",
      "8 ist eine gerade Zahl\n",
      "9 wird ausgelassen\n"
     ]
    }
   ],
   "source": [
    "N = 10\n",
    "for n in xrange(2, N):\n",
    "    if n % 3 == 0:\n",
    "        print n, \"wird ausgelassen\"\n",
    "        continue\n",
    "    if n % 2 == 0:\n",
    "        print n, \"ist eine gerade Zahl\"\n",
    "    else:\n",
    "        print n, \"ist eine ungerade Zahl\""
   ]
  },
  {
   "cell_type": "code",
   "execution_count": 59,
   "metadata": {
    "slideshow": {
     "slide_type": "subslide"
    }
   },
   "outputs": [
    {
     "name": "stdout",
     "output_type": "stream",
     "text": [
      "2 ist eine Primzahl\n",
      "3 ist eine Primzahl\n",
      "5 ist eine Primzahl\n",
      "7 ist eine Primzahl\n"
     ]
    }
   ],
   "source": [
    "N = 10\n",
    "for n in xrange(2, N):\n",
    "    for x in xrange(2, n):\n",
    "        if n % x == 0:\n",
    "            break\n",
    "    else:\n",
    "        print n, \"ist eine Primzahl\""
   ]
  },
  {
   "cell_type": "code",
   "execution_count": 100,
   "metadata": {
    "slideshow": {
     "slide_type": "slide"
    }
   },
   "outputs": [
    {
     "data": {
      "text/html": [
       "<iframe src=https://www.mentimeter.com/s/aa671b9a34cffbb441407e4ea4e68a96/40087fe4cf5d/ onload=\"this.width=0.9*screen.width; this.height=0.45*screen.height;\"></iframe>"
      ],
      "text/plain": [
       "<IPython.core.display.HTML object>"
      ]
     },
     "execution_count": 100,
     "metadata": {},
     "output_type": "execute_result"
    }
   ],
   "source": [
    "from IPython.display import HTML\n",
    "url = 'https://www.mentimeter.com/s/aa671b9a34cffbb441407e4ea4e68a96/40087fe4cf5d/'\n",
    "iframe = '<iframe src=' + url + ' onload=\"this.width=0.9*screen.width; this.height=0.45*screen.height;\"></iframe>'\n",
    "HTML(iframe)"
   ]
  },
  {
   "cell_type": "markdown",
   "metadata": {
    "slideshow": {
     "slide_type": "slide"
    }
   },
   "source": [
    "# Funktionen und Strukturen\n",
    "- Abstraktion\n",
    "- Wiederverwendung\n",
    "- Testbarkeit\n",
    "- Struktur\n",
    "- Lesbarkeit\n",
    "- Objekt Orientiertes Programmieren"
   ]
  },
  {
   "cell_type": "markdown",
   "metadata": {
    "slideshow": {
     "slide_type": "slide"
    }
   },
   "source": [
    "## Funktionen"
   ]
  },
  {
   "cell_type": "code",
   "execution_count": 62,
   "metadata": {
    "slideshow": {
     "slide_type": "fragment"
    }
   },
   "outputs": [
    {
     "name": "stdout",
     "output_type": "stream",
     "text": [
      "[0, 1, 1, 2, 3, 5, 8, 13]\n"
     ]
    }
   ],
   "source": [
    "def fibonacci(N):\n",
    "    a, b = 0, 1\n",
    "    f = [a, b]\n",
    "    while b < N:\n",
    "        a, b = b, a + b\n",
    "        f = f + [b]\n",
    "    return f\n",
    "\n",
    "a = fibonacci(10)\n",
    "print a"
   ]
  },
  {
   "cell_type": "code",
   "execution_count": 67,
   "metadata": {
    "slideshow": {
     "slide_type": "subslide"
    }
   },
   "outputs": [
    {
     "name": "stdout",
     "output_type": "stream",
     "text": [
      "19\n",
      "50\n",
      "4\n",
      "4\n"
     ]
    }
   ],
   "source": [
    "def default(a, b = 42, c = 2):\n",
    "    print a + b - c\n",
    "    \n",
    "default(10, 12, 3)\n",
    "default(10)\n",
    "default(3, b = 4, c = 3)\n",
    "default(3, c = 3, b = 4)"
   ]
  },
  {
   "cell_type": "code",
   "execution_count": 210,
   "metadata": {
    "slideshow": {
     "slide_type": "subslide"
    }
   },
   "outputs": [
    {
     "name": "stdout",
     "output_type": "stream",
     "text": [
      "5\n",
      "6\n"
     ]
    }
   ],
   "source": [
    "a = 5\n",
    "\n",
    "def globalScope():\n",
    "#    global a\n",
    "    a = a + 1\n",
    "\n",
    "print a\n",
    "globalScope()\n",
    "print a"
   ]
  },
  {
   "cell_type": "code",
   "execution_count": 218,
   "metadata": {
    "slideshow": {
     "slide_type": "subslide"
    }
   },
   "outputs": [
    {
     "name": "stdout",
     "output_type": "stream",
     "text": [
      "[3]\n",
      "[3, 5]\n",
      "[3, 5]\n"
     ]
    }
   ],
   "source": [
    "def modify(a):\n",
    "    a.append(5)\n",
    "    \n",
    "def reassign(a):\n",
    "    a = a + [3]\n",
    "    \n",
    "a = [3]\n",
    "print a\n",
    "modify(a)\n",
    "print a\n",
    "reassign(a)\n",
    "print a"
   ]
  },
  {
   "cell_type": "markdown",
   "metadata": {
    "slideshow": {
     "slide_type": "subslide"
    }
   },
   "source": [
    "## Klassen\n"
   ]
  },
  {
   "cell_type": "code",
   "execution_count": 112,
   "metadata": {
    "slideshow": {
     "slide_type": "fragment"
    }
   },
   "outputs": [
    {
     "name": "stdout",
     "output_type": "stream",
     "text": [
      "Hallo :-)\n",
      "[0, 1, 1, 2, 3, 5]\n"
     ]
    }
   ],
   "source": [
    "class Mathe:\n",
    "    msg = \"\"\n",
    "    \n",
    "    def __init__(self):\n",
    "        self.msg = \"Hallo :-)\";\n",
    "    \n",
    "    def message(self):\n",
    "        print self.msg\n",
    "    \n",
    "    def fibonacci(self, N = 5):\n",
    "        self.message()\n",
    "        \n",
    "        a, b = 0, 1\n",
    "        f = [a, b]\n",
    "        while b < N:\n",
    "            a, b = b, a + b\n",
    "            f = f + [b]\n",
    "        return f\n",
    "\n",
    "m = Mathe()\n",
    "print m.fibonacci()"
   ]
  },
  {
   "cell_type": "code",
   "execution_count": 124,
   "metadata": {
    "slideshow": {
     "slide_type": "subslide"
    }
   },
   "outputs": [
    {
     "name": "stdout",
     "output_type": "stream",
     "text": [
      "Ein Ferrari mit der Farbe rot und 400 PS\n"
     ]
    }
   ],
   "source": [
    "class Auto:\n",
    "    farbe = \"\"\n",
    "    \n",
    "    def __init__(self, farbe):\n",
    "        self.farbe = farbe\n",
    "        \n",
    "    def beschreibung(self):\n",
    "        print \"Ein Auto mit der Farbe\", self.farbe\n",
    "        \n",
    "class Ferrari(Auto):\n",
    "    ps = 0\n",
    "    \n",
    "    def __init__(self, farbe, ps):\n",
    "        Auto.__init__(self, farbe)\n",
    "        self.ps = ps\n",
    "    \n",
    "    def beschreibung(self):\n",
    "        print \"Ein Ferrari mit der Farbe\", self.farbe, \"und\", self.ps, \"PS\"\n",
    "        \n",
    "f = Ferrari(\"rot\", 400)\n",
    "f.beschreibung()"
   ]
  },
  {
   "cell_type": "markdown",
   "metadata": {
    "slideshow": {
     "slide_type": "slide"
    }
   },
   "source": [
    "# Module und Bibliotheken\n",
    "- Organisation von Code in Dateien\n",
    "- Lesbarkeit\n",
    "- Kapselung\n",
    "- Veröffentlichung als Bibliothek\n",
    "- Werden in Bytecode umgesetzt (.pyc)"
   ]
  },
  {
   "cell_type": "code",
   "execution_count": 130,
   "metadata": {
    "slideshow": {
     "slide_type": "subslide"
    }
   },
   "outputs": [
    {
     "name": "stdout",
     "output_type": "stream",
     "text": [
      "Hallo :-)\n"
     ]
    },
    {
     "data": {
      "text/plain": [
       "[0, 1, 1, 2, 3, 5]"
      ]
     },
     "execution_count": 130,
     "metadata": {},
     "output_type": "execute_result"
    }
   ],
   "source": [
    "#Mathe Klasse von vorhin in Datei mathematik.py schreiben\n",
    "#class Mathe:\n",
    "#    ...\n",
    "#    def fibonacci(self, N = 5):\n",
    "#    ...\n",
    "\n",
    "import mathematik\n",
    "m = mathematik.Mathe()\n",
    "m.fibonacci()"
   ]
  },
  {
   "cell_type": "code",
   "execution_count": 131,
   "metadata": {
    "slideshow": {
     "slide_type": "fragment"
    }
   },
   "outputs": [
    {
     "name": "stdout",
     "output_type": "stream",
     "text": [
      "Hallo :-)\n"
     ]
    },
    {
     "data": {
      "text/plain": [
       "[0, 1, 1, 2, 3, 5]"
      ]
     },
     "execution_count": 131,
     "metadata": {},
     "output_type": "execute_result"
    }
   ],
   "source": [
    "import mathematik as ma\n",
    "m = ma.Mathe()\n",
    "m.fibonacci()"
   ]
  },
  {
   "cell_type": "code",
   "execution_count": 133,
   "metadata": {
    "slideshow": {
     "slide_type": "fragment"
    }
   },
   "outputs": [
    {
     "name": "stdout",
     "output_type": "stream",
     "text": [
      "Hallo :-)\n"
     ]
    },
    {
     "data": {
      "text/plain": [
       "[0, 1, 1, 2, 3, 5]"
      ]
     },
     "execution_count": 133,
     "metadata": {},
     "output_type": "execute_result"
    }
   ],
   "source": [
    "from mathematik import Mathe\n",
    "#from mathematik import *\n",
    "m = Mathe()\n",
    "m.fibonacci()"
   ]
  },
  {
   "cell_type": "markdown",
   "metadata": {
    "slideshow": {
     "slide_type": "subslide"
    }
   },
   "source": [
    "## Numpy\n",
    "- Im Standard vorhanden\n",
    "- Allgemein genutzte Erweiterung\n",
    "- Viele Funktionen / Objekte\n",
    "- Mathematik affin\n",
    "- Gute Ausgabe-Darstellungen\n",
    "- Gute Dokumentation! http://www.numpy.org/\n",
    "- Einfach, gut und schnell (C backend)"
   ]
  },
  {
   "cell_type": "code",
   "execution_count": 135,
   "metadata": {
    "slideshow": {
     "slide_type": "fragment"
    }
   },
   "outputs": [],
   "source": [
    "import numpy as np\n"
   ]
  },
  {
   "cell_type": "markdown",
   "metadata": {
    "slideshow": {
     "slide_type": "subslide"
    }
   },
   "source": [
    "### Numpy Arrays\n",
    "- Ähnlich zu Listen\n",
    "- Aber doch unterschiedlich\n",
    "- Schnell für große Längen\n",
    "- Besser für Rechnungen!\n",
    "- Multidimensional\n",
    "- Viele Mathe Funktionen verfügbar"
   ]
  },
  {
   "cell_type": "code",
   "execution_count": 145,
   "metadata": {
    "slideshow": {
     "slide_type": "fragment"
    }
   },
   "outputs": [
    {
     "name": "stdout",
     "output_type": "stream",
     "text": [
      "[ 0  1  2  3  4  5  6  7  8  9 10 11]\n",
      "[[ 0  1  2  3]\n",
      " [ 4  5  6  7]\n",
      " [ 8  9 10 11]]\n",
      "2\n",
      "(3, 4)\n",
      "12\n"
     ]
    }
   ],
   "source": [
    "import numpy as np\n",
    "\n",
    "a = np.arange(12)\n",
    "print a\n",
    "b = a.reshape(3,4)\n",
    "print b\n",
    "print b.ndim\n",
    "print b.shape\n",
    "print b.size"
   ]
  },
  {
   "cell_type": "code",
   "execution_count": 153,
   "metadata": {
    "slideshow": {
     "slide_type": "subslide"
    }
   },
   "outputs": [
    {
     "name": "stdout",
     "output_type": "stream",
     "text": [
      "[3, 6, 4]\n",
      "[3 6 4]\n"
     ]
    }
   ],
   "source": [
    "a = [3, 6, 4]\n",
    "print a\n",
    "b = np.array(a)\n",
    "print b"
   ]
  },
  {
   "cell_type": "code",
   "execution_count": 154,
   "metadata": {
    "slideshow": {
     "slide_type": "fragment"
    }
   },
   "outputs": [
    {
     "name": "stdout",
     "output_type": "stream",
     "text": [
      "[3, 6, 4, 3, 6, 4]\n",
      "[ 6 12  8]\n"
     ]
    }
   ],
   "source": [
    "a = a + a #Konkatenation\n",
    "print a\n",
    "b = b + b #Mathematisches addieren elementweise\n",
    "print b"
   ]
  },
  {
   "cell_type": "code",
   "execution_count": 155,
   "metadata": {
    "slideshow": {
     "slide_type": "fragment"
    }
   },
   "outputs": [
    {
     "name": "stdout",
     "output_type": "stream",
     "text": [
      "[3, 6, 4, 3, 6, 4, 3, 6, 4, 3, 6, 4]\n",
      "[12 24 16]\n"
     ]
    }
   ],
   "source": [
    "a = a * 2 #Das Selbe wieder\n",
    "print a\n",
    "b = b * 2 #Elementweise mathematisches \"mal\"\n",
    "print b"
   ]
  },
  {
   "cell_type": "code",
   "execution_count": 197,
   "metadata": {
    "slideshow": {
     "slide_type": "subslide"
    }
   },
   "outputs": [
    {
     "name": "stdout",
     "output_type": "stream",
     "text": [
      "[[ 0.  0.]\n",
      " [ 0.  0.]\n",
      " [ 0.  0.]]\n",
      "[[ 1.  0.  0.]\n",
      " [ 0.  1.  0.]\n",
      " [ 0.  0.  1.]]\n",
      "[[ 1.  1.  1.]\n",
      " [ 1.  1.  1.]]\n",
      "[ 0.    0.25  0.5   0.75  1.    1.25  1.5   1.75  2.  ]\n"
     ]
    }
   ],
   "source": [
    "print np.zeros((3, 2))\n",
    "print np.eye(3)\n",
    "print np.ones((2, 3))\n",
    "print np.linspace(0, 2, 9)"
   ]
  },
  {
   "cell_type": "code",
   "execution_count": 200,
   "metadata": {
    "slideshow": {
     "slide_type": "fragment"
    }
   },
   "outputs": [
    {
     "name": "stdout",
     "output_type": "stream",
     "text": [
      "[  0.00000000e+00   5.87785252e-01   9.51056516e-01   9.51056516e-01\n",
      "   5.87785252e-01   1.22464680e-16  -5.87785252e-01  -9.51056516e-01\n",
      "  -9.51056516e-01  -5.87785252e-01  -2.44929360e-16]\n",
      "-0.951056516295 0.951056516295 1.99159850021e-16\n",
      "[  0.00000000e+00   5.87785252e-01   1.53884177e+00   2.48989828e+00\n",
      "   3.07768354e+00   3.07768354e+00   2.48989828e+00   1.53884177e+00\n",
      "   5.87785252e-01   0.00000000e+00  -2.44929360e-16]\n",
      "4.0\n"
     ]
    }
   ],
   "source": [
    "a = np.linspace(0, 2*np.pi, 11)\n",
    "sa = np.sin(a)\n",
    "print sa\n",
    "print np.min(sa), np.max(sa), np.sum(sa)\n",
    "print np.cumsum(sa)\n",
    "print np.exp(np.log(4))"
   ]
  },
  {
   "cell_type": "code",
   "execution_count": 189,
   "metadata": {
    "slideshow": {
     "slide_type": "subslide"
    }
   },
   "outputs": [
    {
     "name": "stdout",
     "output_type": "stream",
     "text": [
      "[1 4 9]\n",
      "14\n",
      "[0 0 0]\n",
      "[[1]\n",
      " [2]\n",
      " [3]]\n",
      "[14]\n"
     ]
    }
   ],
   "source": [
    "a = np.array([1, 2, 3])\n",
    "b = np.array([1, 2, 3])\n",
    "print a * b\n",
    "print np.dot(a, b)\n",
    "print np.cross(a, b)\n",
    "c = np.transpose(b.reshape(1,3))\n",
    "print c"
   ]
  },
  {
   "cell_type": "code",
   "execution_count": 202,
   "metadata": {
    "slideshow": {
     "slide_type": "fragment"
    }
   },
   "outputs": [
    {
     "name": "stdout",
     "output_type": "stream",
     "text": [
      "[[2 0]\n",
      " [0 4]]\n",
      "[[5 4]\n",
      " [3 4]]\n",
      "[[5 4]\n",
      " [3 4]]\n"
     ]
    }
   ],
   "source": [
    "a = np.array([[1,1], [0,1]])\n",
    "b = np.array([[2,0], [3,4]])\n",
    "print a * b\n",
    "print np.dot(a, b)\n",
    "print np.matmul(a, b)"
   ]
  },
  {
   "cell_type": "markdown",
   "metadata": {
    "slideshow": {
     "slide_type": "subslide"
    }
   },
   "source": [
    "### Kopieren\n",
    "- Shallow Copy\n",
    "- Deep Copy"
   ]
  },
  {
   "cell_type": "code",
   "execution_count": 203,
   "metadata": {
    "slideshow": {
     "slide_type": "fragment"
    }
   },
   "outputs": [
    {
     "name": "stdout",
     "output_type": "stream",
     "text": [
      "[6, 2, 3]\n"
     ]
    }
   ],
   "source": [
    "a = [1, 2, 3]\n",
    "b = a\n",
    "a[0] += 5\n",
    "print b"
   ]
  },
  {
   "cell_type": "code",
   "execution_count": 204,
   "metadata": {
    "slideshow": {
     "slide_type": "fragment"
    }
   },
   "outputs": [
    {
     "name": "stdout",
     "output_type": "stream",
     "text": [
      "[6 2 3]\n"
     ]
    }
   ],
   "source": [
    "a = np.array([1, 2, 3])\n",
    "b = a\n",
    "a[0] += 5\n",
    "print b"
   ]
  },
  {
   "cell_type": "code",
   "execution_count": 205,
   "metadata": {
    "slideshow": {
     "slide_type": "fragment"
    }
   },
   "outputs": [
    {
     "name": "stdout",
     "output_type": "stream",
     "text": [
      "[1 2 3]\n"
     ]
    }
   ],
   "source": [
    "a = np.array([1, 2, 3])\n",
    "b = a.copy()\n",
    "a[0] += 5\n",
    "print b"
   ]
  },
  {
   "cell_type": "code",
   "execution_count": 206,
   "metadata": {
    "slideshow": {
     "slide_type": "subslide"
    }
   },
   "outputs": [
    {
     "data": {
      "text/html": [
       "<iframe src=https://www.mentimeter.com/s/168c8a5b37dc13ca742bc83dadc07c22/012f064c0967 onload=\"this.width=0.9*screen.width; this.height=0.45*screen.height;\"></iframe>"
      ],
      "text/plain": [
       "<IPython.core.display.HTML object>"
      ]
     },
     "execution_count": 206,
     "metadata": {},
     "output_type": "execute_result"
    }
   ],
   "source": [
    "from IPython.display import HTML\n",
    "url = 'https://www.mentimeter.com/s/168c8a5b37dc13ca742bc83dadc07c22/012f064c0967'\n",
    "iframe = '<iframe src=' + url + ' onload=\"this.width=0.9*screen.width; this.height=0.45*screen.height;\"></iframe>'\n",
    "HTML(iframe)"
   ]
  },
  {
   "cell_type": "markdown",
   "metadata": {
    "slideshow": {
     "slide_type": "slide"
    }
   },
   "source": [
    "# Plotten\n",
    "## Grundlagen\n",
    "Pyplot Bibliothek:"
   ]
  },
  {
   "cell_type": "code",
   "execution_count": null,
   "metadata": {
    "slideshow": {
     "slide_type": "-"
    }
   },
   "outputs": [],
   "source": [
    "import matplotlib.pyplot as plt"
   ]
  },
  {
   "cell_type": "code",
   "execution_count": 103,
   "metadata": {
    "slideshow": {
     "slide_type": "subslide"
    }
   },
   "outputs": [
    {
     "data": {
      "image/svg+xml": [
       "<?xml version=\"1.0\" encoding=\"utf-8\" standalone=\"no\"?>\n",
       "<!DOCTYPE svg PUBLIC \"-//W3C//DTD SVG 1.1//EN\"\n",
       "  \"http://www.w3.org/Graphics/SVG/1.1/DTD/svg11.dtd\">\n",
       "<!-- Created with matplotlib (http://matplotlib.org/) -->\n",
       "<svg height=\"252.018125pt\" version=\"1.1\" viewBox=\"0 0 383.982812 252.018125\" width=\"383.982812pt\" xmlns=\"http://www.w3.org/2000/svg\" xmlns:xlink=\"http://www.w3.org/1999/xlink\">\n",
       " <defs>\n",
       "  <style type=\"text/css\">\n",
       "*{stroke-linecap:butt;stroke-linejoin:round;}\n",
       "  </style>\n",
       " </defs>\n",
       " <g id=\"figure_1\">\n",
       "  <g id=\"patch_1\">\n",
       "   <path d=\"M -0 252.018125 \n",
       "L 383.982812 252.018125 \n",
       "L 383.982812 0 \n",
       "L -0 0 \n",
       "z\n",
       "\" style=\"fill:none;\"/>\n",
       "  </g>\n",
       "  <g id=\"axes_1\">\n",
       "   <g id=\"patch_2\">\n",
       "    <path d=\"M 38.482813 228.14 \n",
       "L 373.282813 228.14 \n",
       "L 373.282813 10.7 \n",
       "L 38.482813 10.7 \n",
       "z\n",
       "\" style=\"fill:#ffffff;\"/>\n",
       "   </g>\n",
       "   <g id=\"matplotlib.axis_1\">\n",
       "    <g id=\"xtick_1\">\n",
       "     <g id=\"line2d_1\">\n",
       "      <defs>\n",
       "       <path d=\"M 0 0 \n",
       "L 0 3.5 \n",
       "\" id=\"m4161812c2a\" style=\"stroke:#000000;stroke-width:0.8;\"/>\n",
       "      </defs>\n",
       "      <g>\n",
       "       <use style=\"stroke:#000000;stroke-width:0.8;\" x=\"84.780369\" xlink:href=\"#m4161812c2a\" y=\"228.14\"/>\n",
       "      </g>\n",
       "     </g>\n",
       "     <g id=\"text_1\">\n",
       "      <!-- −10 -->\n",
       "      <defs>\n",
       "       <path d=\"M 10.59375 35.5 \n",
       "L 73.1875 35.5 \n",
       "L 73.1875 27.203125 \n",
       "L 10.59375 27.203125 \n",
       "z\n",
       "\" id=\"DejaVuSans-2212\"/>\n",
       "       <path d=\"M 12.40625 8.296875 \n",
       "L 28.515625 8.296875 \n",
       "L 28.515625 63.921875 \n",
       "L 10.984375 60.40625 \n",
       "L 10.984375 69.390625 \n",
       "L 28.421875 72.90625 \n",
       "L 38.28125 72.90625 \n",
       "L 38.28125 8.296875 \n",
       "L 54.390625 8.296875 \n",
       "L 54.390625 0 \n",
       "L 12.40625 0 \n",
       "z\n",
       "\" id=\"DejaVuSans-31\"/>\n",
       "       <path d=\"M 31.78125 66.40625 \n",
       "Q 24.171875 66.40625 20.328125 58.90625 \n",
       "Q 16.5 51.421875 16.5 36.375 \n",
       "Q 16.5 21.390625 20.328125 13.890625 \n",
       "Q 24.171875 6.390625 31.78125 6.390625 \n",
       "Q 39.453125 6.390625 43.28125 13.890625 \n",
       "Q 47.125 21.390625 47.125 36.375 \n",
       "Q 47.125 51.421875 43.28125 58.90625 \n",
       "Q 39.453125 66.40625 31.78125 66.40625 \n",
       "z\n",
       "M 31.78125 74.21875 \n",
       "Q 44.046875 74.21875 50.515625 64.515625 \n",
       "Q 56.984375 54.828125 56.984375 36.375 \n",
       "Q 56.984375 17.96875 50.515625 8.265625 \n",
       "Q 44.046875 -1.421875 31.78125 -1.421875 \n",
       "Q 19.53125 -1.421875 13.0625 8.265625 \n",
       "Q 6.59375 17.96875 6.59375 36.375 \n",
       "Q 6.59375 54.828125 13.0625 64.515625 \n",
       "Q 19.53125 74.21875 31.78125 74.21875 \n",
       "z\n",
       "\" id=\"DejaVuSans-30\"/>\n",
       "      </defs>\n",
       "      <g transform=\"translate(74.228026 242.738437)scale(0.1 -0.1)\">\n",
       "       <use xlink:href=\"#DejaVuSans-2212\"/>\n",
       "       <use x=\"83.789062\" xlink:href=\"#DejaVuSans-31\"/>\n",
       "       <use x=\"147.412109\" xlink:href=\"#DejaVuSans-30\"/>\n",
       "      </g>\n",
       "     </g>\n",
       "    </g>\n",
       "    <g id=\"xtick_2\">\n",
       "     <g id=\"line2d_2\">\n",
       "      <g>\n",
       "       <use style=\"stroke:#000000;stroke-width:0.8;\" x=\"145.331591\" xlink:href=\"#m4161812c2a\" y=\"228.14\"/>\n",
       "      </g>\n",
       "     </g>\n",
       "     <g id=\"text_2\">\n",
       "      <!-- −5 -->\n",
       "      <defs>\n",
       "       <path d=\"M 10.796875 72.90625 \n",
       "L 49.515625 72.90625 \n",
       "L 49.515625 64.59375 \n",
       "L 19.828125 64.59375 \n",
       "L 19.828125 46.734375 \n",
       "Q 21.96875 47.46875 24.109375 47.828125 \n",
       "Q 26.265625 48.1875 28.421875 48.1875 \n",
       "Q 40.625 48.1875 47.75 41.5 \n",
       "Q 54.890625 34.8125 54.890625 23.390625 \n",
       "Q 54.890625 11.625 47.5625 5.09375 \n",
       "Q 40.234375 -1.421875 26.90625 -1.421875 \n",
       "Q 22.3125 -1.421875 17.546875 -0.640625 \n",
       "Q 12.796875 0.140625 7.71875 1.703125 \n",
       "L 7.71875 11.625 \n",
       "Q 12.109375 9.234375 16.796875 8.0625 \n",
       "Q 21.484375 6.890625 26.703125 6.890625 \n",
       "Q 35.15625 6.890625 40.078125 11.328125 \n",
       "Q 45.015625 15.765625 45.015625 23.390625 \n",
       "Q 45.015625 31 40.078125 35.4375 \n",
       "Q 35.15625 39.890625 26.703125 39.890625 \n",
       "Q 22.75 39.890625 18.8125 39.015625 \n",
       "Q 14.890625 38.140625 10.796875 36.28125 \n",
       "z\n",
       "\" id=\"DejaVuSans-35\"/>\n",
       "      </defs>\n",
       "      <g transform=\"translate(137.960497 242.738437)scale(0.1 -0.1)\">\n",
       "       <use xlink:href=\"#DejaVuSans-2212\"/>\n",
       "       <use x=\"83.789062\" xlink:href=\"#DejaVuSans-35\"/>\n",
       "      </g>\n",
       "     </g>\n",
       "    </g>\n",
       "    <g id=\"xtick_3\">\n",
       "     <g id=\"line2d_3\">\n",
       "      <g>\n",
       "       <use style=\"stroke:#000000;stroke-width:0.8;\" x=\"205.882812\" xlink:href=\"#m4161812c2a\" y=\"228.14\"/>\n",
       "      </g>\n",
       "     </g>\n",
       "     <g id=\"text_3\">\n",
       "      <!-- 0 -->\n",
       "      <g transform=\"translate(202.701562 242.738437)scale(0.1 -0.1)\">\n",
       "       <use xlink:href=\"#DejaVuSans-30\"/>\n",
       "      </g>\n",
       "     </g>\n",
       "    </g>\n",
       "    <g id=\"xtick_4\">\n",
       "     <g id=\"line2d_4\">\n",
       "      <g>\n",
       "       <use style=\"stroke:#000000;stroke-width:0.8;\" x=\"266.434034\" xlink:href=\"#m4161812c2a\" y=\"228.14\"/>\n",
       "      </g>\n",
       "     </g>\n",
       "     <g id=\"text_4\">\n",
       "      <!-- 5 -->\n",
       "      <g transform=\"translate(263.252784 242.738437)scale(0.1 -0.1)\">\n",
       "       <use xlink:href=\"#DejaVuSans-35\"/>\n",
       "      </g>\n",
       "     </g>\n",
       "    </g>\n",
       "    <g id=\"xtick_5\">\n",
       "     <g id=\"line2d_5\">\n",
       "      <g>\n",
       "       <use style=\"stroke:#000000;stroke-width:0.8;\" x=\"326.985256\" xlink:href=\"#m4161812c2a\" y=\"228.14\"/>\n",
       "      </g>\n",
       "     </g>\n",
       "     <g id=\"text_5\">\n",
       "      <!-- 10 -->\n",
       "      <g transform=\"translate(320.622756 242.738437)scale(0.1 -0.1)\">\n",
       "       <use xlink:href=\"#DejaVuSans-31\"/>\n",
       "       <use x=\"63.623047\" xlink:href=\"#DejaVuSans-30\"/>\n",
       "      </g>\n",
       "     </g>\n",
       "    </g>\n",
       "   </g>\n",
       "   <g id=\"matplotlib.axis_2\">\n",
       "    <g id=\"ytick_1\">\n",
       "     <g id=\"line2d_6\">\n",
       "      <defs>\n",
       "       <path d=\"M 0 0 \n",
       "L -3.5 0 \n",
       "\" id=\"m97fed65e3a\" style=\"stroke:#000000;stroke-width:0.8;\"/>\n",
       "      </defs>\n",
       "      <g>\n",
       "       <use style=\"stroke:#000000;stroke-width:0.8;\" x=\"38.482813\" xlink:href=\"#m97fed65e3a\" y=\"215.457776\"/>\n",
       "      </g>\n",
       "     </g>\n",
       "     <g id=\"text_6\">\n",
       "      <!-- −0.2 -->\n",
       "      <defs>\n",
       "       <path d=\"M 10.6875 12.40625 \n",
       "L 21 12.40625 \n",
       "L 21 0 \n",
       "L 10.6875 0 \n",
       "z\n",
       "\" id=\"DejaVuSans-2e\"/>\n",
       "       <path d=\"M 19.1875 8.296875 \n",
       "L 53.609375 8.296875 \n",
       "L 53.609375 0 \n",
       "L 7.328125 0 \n",
       "L 7.328125 8.296875 \n",
       "Q 12.9375 14.109375 22.625 23.890625 \n",
       "Q 32.328125 33.6875 34.8125 36.53125 \n",
       "Q 39.546875 41.84375 41.421875 45.53125 \n",
       "Q 43.3125 49.21875 43.3125 52.78125 \n",
       "Q 43.3125 58.59375 39.234375 62.25 \n",
       "Q 35.15625 65.921875 28.609375 65.921875 \n",
       "Q 23.96875 65.921875 18.8125 64.3125 \n",
       "Q 13.671875 62.703125 7.8125 59.421875 \n",
       "L 7.8125 69.390625 \n",
       "Q 13.765625 71.78125 18.9375 73 \n",
       "Q 24.125 74.21875 28.421875 74.21875 \n",
       "Q 39.75 74.21875 46.484375 68.546875 \n",
       "Q 53.21875 62.890625 53.21875 53.421875 \n",
       "Q 53.21875 48.921875 51.53125 44.890625 \n",
       "Q 49.859375 40.875 45.40625 35.40625 \n",
       "Q 44.1875 33.984375 37.640625 27.21875 \n",
       "Q 31.109375 20.453125 19.1875 8.296875 \n",
       "z\n",
       "\" id=\"DejaVuSans-32\"/>\n",
       "      </defs>\n",
       "      <g transform=\"translate(7.2 219.256995)scale(0.1 -0.1)\">\n",
       "       <use xlink:href=\"#DejaVuSans-2212\"/>\n",
       "       <use x=\"83.789062\" xlink:href=\"#DejaVuSans-30\"/>\n",
       "       <use x=\"147.412109\" xlink:href=\"#DejaVuSans-2e\"/>\n",
       "       <use x=\"179.199219\" xlink:href=\"#DejaVuSans-32\"/>\n",
       "      </g>\n",
       "     </g>\n",
       "    </g>\n",
       "    <g id=\"ytick_2\">\n",
       "     <g id=\"line2d_7\">\n",
       "      <g>\n",
       "       <use style=\"stroke:#000000;stroke-width:0.8;\" x=\"38.482813\" xlink:href=\"#m97fed65e3a\" y=\"182.978039\"/>\n",
       "      </g>\n",
       "     </g>\n",
       "     <g id=\"text_7\">\n",
       "      <!-- 0.0 -->\n",
       "      <g transform=\"translate(15.579688 186.777258)scale(0.1 -0.1)\">\n",
       "       <use xlink:href=\"#DejaVuSans-30\"/>\n",
       "       <use x=\"63.623047\" xlink:href=\"#DejaVuSans-2e\"/>\n",
       "       <use x=\"95.410156\" xlink:href=\"#DejaVuSans-30\"/>\n",
       "      </g>\n",
       "     </g>\n",
       "    </g>\n",
       "    <g id=\"ytick_3\">\n",
       "     <g id=\"line2d_8\">\n",
       "      <g>\n",
       "       <use style=\"stroke:#000000;stroke-width:0.8;\" x=\"38.482813\" xlink:href=\"#m97fed65e3a\" y=\"150.498302\"/>\n",
       "      </g>\n",
       "     </g>\n",
       "     <g id=\"text_8\">\n",
       "      <!-- 0.2 -->\n",
       "      <g transform=\"translate(15.579688 154.297521)scale(0.1 -0.1)\">\n",
       "       <use xlink:href=\"#DejaVuSans-30\"/>\n",
       "       <use x=\"63.623047\" xlink:href=\"#DejaVuSans-2e\"/>\n",
       "       <use x=\"95.410156\" xlink:href=\"#DejaVuSans-32\"/>\n",
       "      </g>\n",
       "     </g>\n",
       "    </g>\n",
       "    <g id=\"ytick_4\">\n",
       "     <g id=\"line2d_9\">\n",
       "      <g>\n",
       "       <use style=\"stroke:#000000;stroke-width:0.8;\" x=\"38.482813\" xlink:href=\"#m97fed65e3a\" y=\"118.018565\"/>\n",
       "      </g>\n",
       "     </g>\n",
       "     <g id=\"text_9\">\n",
       "      <!-- 0.4 -->\n",
       "      <defs>\n",
       "       <path d=\"M 37.796875 64.3125 \n",
       "L 12.890625 25.390625 \n",
       "L 37.796875 25.390625 \n",
       "z\n",
       "M 35.203125 72.90625 \n",
       "L 47.609375 72.90625 \n",
       "L 47.609375 25.390625 \n",
       "L 58.015625 25.390625 \n",
       "L 58.015625 17.1875 \n",
       "L 47.609375 17.1875 \n",
       "L 47.609375 0 \n",
       "L 37.796875 0 \n",
       "L 37.796875 17.1875 \n",
       "L 4.890625 17.1875 \n",
       "L 4.890625 26.703125 \n",
       "z\n",
       "\" id=\"DejaVuSans-34\"/>\n",
       "      </defs>\n",
       "      <g transform=\"translate(15.579688 121.817784)scale(0.1 -0.1)\">\n",
       "       <use xlink:href=\"#DejaVuSans-30\"/>\n",
       "       <use x=\"63.623047\" xlink:href=\"#DejaVuSans-2e\"/>\n",
       "       <use x=\"95.410156\" xlink:href=\"#DejaVuSans-34\"/>\n",
       "      </g>\n",
       "     </g>\n",
       "    </g>\n",
       "    <g id=\"ytick_5\">\n",
       "     <g id=\"line2d_10\">\n",
       "      <g>\n",
       "       <use style=\"stroke:#000000;stroke-width:0.8;\" x=\"38.482813\" xlink:href=\"#m97fed65e3a\" y=\"85.538828\"/>\n",
       "      </g>\n",
       "     </g>\n",
       "     <g id=\"text_10\">\n",
       "      <!-- 0.6 -->\n",
       "      <defs>\n",
       "       <path d=\"M 33.015625 40.375 \n",
       "Q 26.375 40.375 22.484375 35.828125 \n",
       "Q 18.609375 31.296875 18.609375 23.390625 \n",
       "Q 18.609375 15.53125 22.484375 10.953125 \n",
       "Q 26.375 6.390625 33.015625 6.390625 \n",
       "Q 39.65625 6.390625 43.53125 10.953125 \n",
       "Q 47.40625 15.53125 47.40625 23.390625 \n",
       "Q 47.40625 31.296875 43.53125 35.828125 \n",
       "Q 39.65625 40.375 33.015625 40.375 \n",
       "z\n",
       "M 52.59375 71.296875 \n",
       "L 52.59375 62.3125 \n",
       "Q 48.875 64.0625 45.09375 64.984375 \n",
       "Q 41.3125 65.921875 37.59375 65.921875 \n",
       "Q 27.828125 65.921875 22.671875 59.328125 \n",
       "Q 17.53125 52.734375 16.796875 39.40625 \n",
       "Q 19.671875 43.65625 24.015625 45.921875 \n",
       "Q 28.375 48.1875 33.59375 48.1875 \n",
       "Q 44.578125 48.1875 50.953125 41.515625 \n",
       "Q 57.328125 34.859375 57.328125 23.390625 \n",
       "Q 57.328125 12.15625 50.6875 5.359375 \n",
       "Q 44.046875 -1.421875 33.015625 -1.421875 \n",
       "Q 20.359375 -1.421875 13.671875 8.265625 \n",
       "Q 6.984375 17.96875 6.984375 36.375 \n",
       "Q 6.984375 53.65625 15.1875 63.9375 \n",
       "Q 23.390625 74.21875 37.203125 74.21875 \n",
       "Q 40.921875 74.21875 44.703125 73.484375 \n",
       "Q 48.484375 72.75 52.59375 71.296875 \n",
       "z\n",
       "\" id=\"DejaVuSans-36\"/>\n",
       "      </defs>\n",
       "      <g transform=\"translate(15.579688 89.338047)scale(0.1 -0.1)\">\n",
       "       <use xlink:href=\"#DejaVuSans-30\"/>\n",
       "       <use x=\"63.623047\" xlink:href=\"#DejaVuSans-2e\"/>\n",
       "       <use x=\"95.410156\" xlink:href=\"#DejaVuSans-36\"/>\n",
       "      </g>\n",
       "     </g>\n",
       "    </g>\n",
       "    <g id=\"ytick_6\">\n",
       "     <g id=\"line2d_11\">\n",
       "      <g>\n",
       "       <use style=\"stroke:#000000;stroke-width:0.8;\" x=\"38.482813\" xlink:href=\"#m97fed65e3a\" y=\"53.059091\"/>\n",
       "      </g>\n",
       "     </g>\n",
       "     <g id=\"text_11\">\n",
       "      <!-- 0.8 -->\n",
       "      <defs>\n",
       "       <path d=\"M 31.78125 34.625 \n",
       "Q 24.75 34.625 20.71875 30.859375 \n",
       "Q 16.703125 27.09375 16.703125 20.515625 \n",
       "Q 16.703125 13.921875 20.71875 10.15625 \n",
       "Q 24.75 6.390625 31.78125 6.390625 \n",
       "Q 38.8125 6.390625 42.859375 10.171875 \n",
       "Q 46.921875 13.96875 46.921875 20.515625 \n",
       "Q 46.921875 27.09375 42.890625 30.859375 \n",
       "Q 38.875 34.625 31.78125 34.625 \n",
       "z\n",
       "M 21.921875 38.8125 \n",
       "Q 15.578125 40.375 12.03125 44.71875 \n",
       "Q 8.5 49.078125 8.5 55.328125 \n",
       "Q 8.5 64.0625 14.71875 69.140625 \n",
       "Q 20.953125 74.21875 31.78125 74.21875 \n",
       "Q 42.671875 74.21875 48.875 69.140625 \n",
       "Q 55.078125 64.0625 55.078125 55.328125 \n",
       "Q 55.078125 49.078125 51.53125 44.71875 \n",
       "Q 48 40.375 41.703125 38.8125 \n",
       "Q 48.828125 37.15625 52.796875 32.3125 \n",
       "Q 56.78125 27.484375 56.78125 20.515625 \n",
       "Q 56.78125 9.90625 50.3125 4.234375 \n",
       "Q 43.84375 -1.421875 31.78125 -1.421875 \n",
       "Q 19.734375 -1.421875 13.25 4.234375 \n",
       "Q 6.78125 9.90625 6.78125 20.515625 \n",
       "Q 6.78125 27.484375 10.78125 32.3125 \n",
       "Q 14.796875 37.15625 21.921875 38.8125 \n",
       "z\n",
       "M 18.3125 54.390625 \n",
       "Q 18.3125 48.734375 21.84375 45.5625 \n",
       "Q 25.390625 42.390625 31.78125 42.390625 \n",
       "Q 38.140625 42.390625 41.71875 45.5625 \n",
       "Q 45.3125 48.734375 45.3125 54.390625 \n",
       "Q 45.3125 60.0625 41.71875 63.234375 \n",
       "Q 38.140625 66.40625 31.78125 66.40625 \n",
       "Q 25.390625 66.40625 21.84375 63.234375 \n",
       "Q 18.3125 60.0625 18.3125 54.390625 \n",
       "z\n",
       "\" id=\"DejaVuSans-38\"/>\n",
       "      </defs>\n",
       "      <g transform=\"translate(15.579688 56.858309)scale(0.1 -0.1)\">\n",
       "       <use xlink:href=\"#DejaVuSans-30\"/>\n",
       "       <use x=\"63.623047\" xlink:href=\"#DejaVuSans-2e\"/>\n",
       "       <use x=\"95.410156\" xlink:href=\"#DejaVuSans-38\"/>\n",
       "      </g>\n",
       "     </g>\n",
       "    </g>\n",
       "    <g id=\"ytick_7\">\n",
       "     <g id=\"line2d_12\">\n",
       "      <g>\n",
       "       <use style=\"stroke:#000000;stroke-width:0.8;\" x=\"38.482813\" xlink:href=\"#m97fed65e3a\" y=\"20.579354\"/>\n",
       "      </g>\n",
       "     </g>\n",
       "     <g id=\"text_12\">\n",
       "      <!-- 1.0 -->\n",
       "      <g transform=\"translate(15.579688 24.378572)scale(0.1 -0.1)\">\n",
       "       <use xlink:href=\"#DejaVuSans-31\"/>\n",
       "       <use x=\"63.623047\" xlink:href=\"#DejaVuSans-2e\"/>\n",
       "       <use x=\"95.410156\" xlink:href=\"#DejaVuSans-30\"/>\n",
       "      </g>\n",
       "     </g>\n",
       "    </g>\n",
       "   </g>\n",
       "   <g id=\"line2d_13\">\n",
       "    <path clip-path=\"url(#peab96b001b)\" d=\"M 53.700994 182.978039 \n",
       "L 61.317702 190.981288 \n",
       "L 63.755048 193.191105 \n",
       "L 65.887727 194.846949 \n",
       "L 67.715736 196.012327 \n",
       "L 69.543746 196.908556 \n",
       "L 71.067088 197.429728 \n",
       "L 72.590429 197.731835 \n",
       "L 74.113771 197.80509 \n",
       "L 75.637112 197.643019 \n",
       "L 77.160454 197.242631 \n",
       "L 78.683795 196.604543 \n",
       "L 80.207137 195.733048 \n",
       "L 82.035147 194.390666 \n",
       "L 83.863156 192.744631 \n",
       "L 85.995835 190.478344 \n",
       "L 88.433181 187.502385 \n",
       "L 91.175196 183.786497 \n",
       "L 101.533918 169.350677 \n",
       "L 103.666596 166.952915 \n",
       "L 105.494606 165.216218 \n",
       "L 107.017948 164.03209 \n",
       "L 108.541289 163.114971 \n",
       "L 110.064631 162.48756 \n",
       "L 111.283304 162.207152 \n",
       "L 112.501977 162.132331 \n",
       "L 113.72065 162.269241 \n",
       "L 114.939324 162.622163 \n",
       "L 116.157997 163.193435 \n",
       "L 117.37667 163.983378 \n",
       "L 118.900012 165.275466 \n",
       "L 120.423353 166.898342 \n",
       "L 121.946695 168.83883 \n",
       "L 123.774704 171.560519 \n",
       "L 125.602714 174.671724 \n",
       "L 127.735392 178.7249 \n",
       "L 130.477407 184.453602 \n",
       "L 135.047432 194.652317 \n",
       "L 138.703451 202.628452 \n",
       "L 141.140798 207.457987 \n",
       "L 142.968808 210.666118 \n",
       "L 144.796817 213.417735 \n",
       "L 146.320159 215.29886 \n",
       "L 147.538832 216.499652 \n",
       "L 148.757505 217.405265 \n",
       "L 149.976179 217.994426 \n",
       "L 150.890184 218.21683 \n",
       "L 151.804188 218.242725 \n",
       "L 152.718193 218.065277 \n",
       "L 153.632198 217.678355 \n",
       "L 154.546203 217.076569 \n",
       "L 155.460208 216.255303 \n",
       "L 156.678881 214.812407 \n",
       "L 157.897555 212.965935 \n",
       "L 159.116228 210.711899 \n",
       "L 160.334901 208.049123 \n",
       "L 161.858242 204.148706 \n",
       "L 163.381584 199.622156 \n",
       "L 165.209594 193.387949 \n",
       "L 167.037604 186.319112 \n",
       "L 169.170282 177.093719 \n",
       "L 171.607628 165.401366 \n",
       "L 174.349643 151.032403 \n",
       "L 177.700994 132.217764 \n",
       "L 187.755048 74.783794 \n",
       "L 190.497063 60.874069 \n",
       "L 192.629741 51.108592 \n",
       "L 194.457751 43.62004 \n",
       "L 196.285761 37.05164 \n",
       "L 197.809102 32.344984 \n",
       "L 199.332444 28.383074 \n",
       "L 200.551117 25.775078 \n",
       "L 201.76979 23.683502 \n",
       "L 202.683795 22.461456 \n",
       "L 203.5978 21.541253 \n",
       "L 204.511805 20.926032 \n",
       "L 205.42581 20.617895 \n",
       "L 206.339815 20.617895 \n",
       "L 207.25382 20.926032 \n",
       "L 208.167825 21.541253 \n",
       "L 209.08183 22.461456 \n",
       "L 209.995835 23.683502 \n",
       "L 211.214508 25.775078 \n",
       "L 212.433181 28.383074 \n",
       "L 213.651854 31.491727 \n",
       "L 215.175196 36.052755 \n",
       "L 216.698537 41.323716 \n",
       "L 218.526547 48.516123 \n",
       "L 220.659225 57.980039 \n",
       "L 223.096572 69.999389 \n",
       "L 225.838586 84.718086 \n",
       "L 229.799274 107.369653 \n",
       "L 236.806645 147.696978 \n",
       "L 239.853328 163.863013 \n",
       "L 242.290675 175.695736 \n",
       "L 244.423353 185.063607 \n",
       "L 246.556031 193.387949 \n",
       "L 248.384041 199.622156 \n",
       "L 249.907383 204.148706 \n",
       "L 251.430724 208.049123 \n",
       "L 252.954066 211.31373 \n",
       "L 254.172739 213.465653 \n",
       "L 255.391412 215.21075 \n",
       "L 256.610085 216.553697 \n",
       "L 257.828758 217.501877 \n",
       "L 258.742763 217.95986 \n",
       "L 259.656768 218.206487 \n",
       "L 260.570773 218.247647 \n",
       "L 261.484778 218.089945 \n",
       "L 262.398783 217.740664 \n",
       "L 263.617456 216.990725 \n",
       "L 264.836129 215.93476 \n",
       "L 266.054803 214.594859 \n",
       "L 267.578144 212.556744 \n",
       "L 269.101486 210.160706 \n",
       "L 270.929496 206.885282 \n",
       "L 273.366842 201.990138 \n",
       "L 276.718193 194.652317 \n",
       "L 282.811559 181.210751 \n",
       "L 285.248906 176.357763 \n",
       "L 287.381584 172.556636 \n",
       "L 289.209594 169.700025 \n",
       "L 291.037604 167.261543 \n",
       "L 292.560945 165.573925 \n",
       "L 294.084287 164.214874 \n",
       "L 295.607628 163.193435 \n",
       "L 296.826301 162.622163 \n",
       "L 298.044975 162.269241 \n",
       "L 299.263648 162.132331 \n",
       "L 300.482321 162.207152 \n",
       "L 301.700994 162.48756 \n",
       "L 302.919668 162.965647 \n",
       "L 304.443009 163.826529 \n",
       "L 305.966351 164.959233 \n",
       "L 307.79436 166.641426 \n",
       "L 309.62237 168.629314 \n",
       "L 311.755048 171.262801 \n",
       "L 314.497063 175.004608 \n",
       "L 324.246449 188.660923 \n",
       "L 326.683795 191.49216 \n",
       "L 328.816473 193.604018 \n",
       "L 330.644483 195.101287 \n",
       "L 332.472493 196.283589 \n",
       "L 333.995835 197.015763 \n",
       "L 335.519176 197.511509 \n",
       "L 337.042518 197.768748 \n",
       "L 338.565859 197.789038 \n",
       "L 340.089201 197.577479 \n",
       "L 341.612542 197.142555 \n",
       "L 343.135884 196.49594 \n",
       "L 344.963894 195.461346 \n",
       "L 346.791903 194.173384 \n",
       "L 348.924582 192.39747 \n",
       "L 351.361928 190.084081 \n",
       "L 355.017948 186.260797 \n",
       "L 358.064631 182.978039 \n",
       "L 358.064631 182.978039 \n",
       "\" style=\"fill:none;stroke:#1f77b4;stroke-linecap:square;stroke-width:1.5;\"/>\n",
       "   </g>\n",
       "   <g id=\"patch_3\">\n",
       "    <path d=\"M 38.482813 228.14 \n",
       "L 38.482813 10.7 \n",
       "\" style=\"fill:none;stroke:#000000;stroke-linecap:square;stroke-linejoin:miter;stroke-width:0.8;\"/>\n",
       "   </g>\n",
       "   <g id=\"patch_4\">\n",
       "    <path d=\"M 373.282813 228.14 \n",
       "L 373.282813 10.7 \n",
       "\" style=\"fill:none;stroke:#000000;stroke-linecap:square;stroke-linejoin:miter;stroke-width:0.8;\"/>\n",
       "   </g>\n",
       "   <g id=\"patch_5\">\n",
       "    <path d=\"M 38.482812 228.14 \n",
       "L 373.282812 228.14 \n",
       "\" style=\"fill:none;stroke:#000000;stroke-linecap:square;stroke-linejoin:miter;stroke-width:0.8;\"/>\n",
       "   </g>\n",
       "   <g id=\"patch_6\">\n",
       "    <path d=\"M 38.482812 10.7 \n",
       "L 373.282812 10.7 \n",
       "\" style=\"fill:none;stroke:#000000;stroke-linecap:square;stroke-linejoin:miter;stroke-width:0.8;\"/>\n",
       "   </g>\n",
       "  </g>\n",
       " </g>\n",
       " <defs>\n",
       "  <clipPath id=\"peab96b001b\">\n",
       "   <rect height=\"217.44\" width=\"334.8\" x=\"38.482813\" y=\"10.7\"/>\n",
       "  </clipPath>\n",
       " </defs>\n",
       "</svg>\n"
      ],
      "text/plain": [
       "<Figure size 432x288 with 1 Axes>"
      ]
     },
     "metadata": {
      "needs_background": "light"
     },
     "output_type": "display_data"
    }
   ],
   "source": [
    "#Jupyter magic\n",
    "%matplotlib inline\n",
    "%config InlineBackend.figure_format = 'svg'\n",
    "#Bibliotheken\n",
    "import numpy as np\n",
    "import matplotlib.pyplot as plt\n",
    "#Abkürzung\n",
    "pi = np.pi\n",
    "#Array an 1000 x-Werten von -4pi bis 4pi\n",
    "x = np.linspace(-4*pi, 4*pi, 1000)\n",
    "#x gegen sinc(x) plotten\n",
    "plt.plot(x, np.sin(x)/x)\n",
    "#Anzeigen\n",
    "plt.show()"
   ]
  },
  {
   "cell_type": "code",
   "execution_count": 4,
   "metadata": {
    "scrolled": true,
    "slideshow": {
     "slide_type": "subslide"
    }
   },
   "outputs": [
    {
     "data": {
      "image/svg+xml": [
       "<?xml version=\"1.0\" encoding=\"utf-8\" standalone=\"no\"?>\n",
       "<!DOCTYPE svg PUBLIC \"-//W3C//DTD SVG 1.1//EN\"\n",
       "  \"http://www.w3.org/Graphics/SVG/1.1/DTD/svg11.dtd\">\n",
       "<!-- Created with matplotlib (http://matplotlib.org/) -->\n",
       "<svg height=\"276.793625pt\" version=\"1.1\" viewBox=\"0 0 872.78 276.793625\" width=\"872.78pt\" xmlns=\"http://www.w3.org/2000/svg\" xmlns:xlink=\"http://www.w3.org/1999/xlink\">\n",
       " <defs>\n",
       "  <style type=\"text/css\">\n",
       "*{stroke-linecap:butt;stroke-linejoin:round;}\n",
       "  </style>\n",
       " </defs>\n",
       " <g id=\"figure_1\">\n",
       "  <g id=\"patch_1\">\n",
       "   <path d=\"M -0 276.793625 \n",
       "L 872.78 276.793625 \n",
       "L 872.78 0 \n",
       "L -0 0 \n",
       "z\n",
       "\" style=\"fill:none;\"/>\n",
       "  </g>\n",
       "  <g id=\"axes_1\">\n",
       "   <g id=\"patch_2\">\n",
       "    <path d=\"M 25.08 246.140812 \n",
       "L 862.08 246.140812 \n",
       "L 862.08 28.700812 \n",
       "L 25.08 28.700812 \n",
       "z\n",
       "\" style=\"fill:#ffffff;\"/>\n",
       "   </g>\n",
       "   <g id=\"matplotlib.axis_1\">\n",
       "    <g id=\"xtick_1\">\n",
       "     <g id=\"line2d_1\">\n",
       "      <defs>\n",
       "       <path d=\"M 0 0 \n",
       "L 0 3.5 \n",
       "\" id=\"m1211b8bc6a\" style=\"stroke:#000000;stroke-width:0.8;\"/>\n",
       "      </defs>\n",
       "      <g>\n",
       "       <use style=\"stroke:#000000;stroke-width:0.8;\" x=\"63.125455\" xlink:href=\"#m1211b8bc6a\" y=\"246.140812\"/>\n",
       "      </g>\n",
       "     </g>\n",
       "     <g id=\"text_1\">\n",
       "      <!-- $-4\\pi$ -->\n",
       "      <defs>\n",
       "       <path d=\"M 10.59375 35.5 \n",
       "L 73.1875 35.5 \n",
       "L 73.1875 27.203125 \n",
       "L 10.59375 27.203125 \n",
       "z\n",
       "\" id=\"DejaVuSans-2212\"/>\n",
       "       <path d=\"M 37.796875 64.3125 \n",
       "L 12.890625 25.390625 \n",
       "L 37.796875 25.390625 \n",
       "z\n",
       "M 35.203125 72.90625 \n",
       "L 47.609375 72.90625 \n",
       "L 47.609375 25.390625 \n",
       "L 58.015625 25.390625 \n",
       "L 58.015625 17.1875 \n",
       "L 47.609375 17.1875 \n",
       "L 47.609375 0 \n",
       "L 37.796875 0 \n",
       "L 37.796875 17.1875 \n",
       "L 4.890625 17.1875 \n",
       "L 4.890625 26.703125 \n",
       "z\n",
       "\" id=\"DejaVuSans-34\"/>\n",
       "       <path d=\"M 9.125 54.6875 \n",
       "L 61.53125 54.6875 \n",
       "L 59.765625 45.703125 \n",
       "L 52.875 45.703125 \n",
       "L 46.34375 12.109375 \n",
       "Q 45.65625 8.59375 46.578125 7.03125 \n",
       "Q 47.46875 5.515625 50.140625 5.515625 \n",
       "Q 50.875 5.515625 51.953125 5.671875 \n",
       "Q 53.078125 5.765625 53.421875 5.8125 \n",
       "L 52.15625 -0.6875 \n",
       "Q 50.34375 -1.3125 48.484375 -1.609375 \n",
       "Q 46.578125 -1.90625 44.78125 -1.90625 \n",
       "Q 38.921875 -1.90625 37.3125 1.265625 \n",
       "Q 35.6875 4.5 37.359375 13.09375 \n",
       "L 43.703125 45.703125 \n",
       "L 23.53125 45.703125 \n",
       "L 14.65625 0 \n",
       "L 5.46875 0 \n",
       "L 14.359375 45.703125 \n",
       "L 7.375 45.703125 \n",
       "z\n",
       "\" id=\"DejaVuSans-Oblique-3c0\"/>\n",
       "      </defs>\n",
       "      <g transform=\"translate(45.445455 266.058156)scale(0.17 -0.17)\">\n",
       "       <use transform=\"translate(0 0.09375)\" xlink:href=\"#DejaVuSans-2212\"/>\n",
       "       <use transform=\"translate(83.789062 0.09375)\" xlink:href=\"#DejaVuSans-34\"/>\n",
       "       <use transform=\"translate(147.412109 0.09375)\" xlink:href=\"#DejaVuSans-Oblique-3c0\"/>\n",
       "      </g>\n",
       "     </g>\n",
       "    </g>\n",
       "    <g id=\"xtick_2\">\n",
       "     <g id=\"line2d_2\">\n",
       "      <g>\n",
       "       <use style=\"stroke:#000000;stroke-width:0.8;\" x=\"253.352727\" xlink:href=\"#m1211b8bc6a\" y=\"246.140812\"/>\n",
       "      </g>\n",
       "     </g>\n",
       "     <g id=\"text_2\">\n",
       "      <!-- $-2\\pi$ -->\n",
       "      <defs>\n",
       "       <path d=\"M 19.1875 8.296875 \n",
       "L 53.609375 8.296875 \n",
       "L 53.609375 0 \n",
       "L 7.328125 0 \n",
       "L 7.328125 8.296875 \n",
       "Q 12.9375 14.109375 22.625 23.890625 \n",
       "Q 32.328125 33.6875 34.8125 36.53125 \n",
       "Q 39.546875 41.84375 41.421875 45.53125 \n",
       "Q 43.3125 49.21875 43.3125 52.78125 \n",
       "Q 43.3125 58.59375 39.234375 62.25 \n",
       "Q 35.15625 65.921875 28.609375 65.921875 \n",
       "Q 23.96875 65.921875 18.8125 64.3125 \n",
       "Q 13.671875 62.703125 7.8125 59.421875 \n",
       "L 7.8125 69.390625 \n",
       "Q 13.765625 71.78125 18.9375 73 \n",
       "Q 24.125 74.21875 28.421875 74.21875 \n",
       "Q 39.75 74.21875 46.484375 68.546875 \n",
       "Q 53.21875 62.890625 53.21875 53.421875 \n",
       "Q 53.21875 48.921875 51.53125 44.890625 \n",
       "Q 49.859375 40.875 45.40625 35.40625 \n",
       "Q 44.1875 33.984375 37.640625 27.21875 \n",
       "Q 31.109375 20.453125 19.1875 8.296875 \n",
       "z\n",
       "\" id=\"DejaVuSans-32\"/>\n",
       "      </defs>\n",
       "      <g transform=\"translate(235.672727 266.058156)scale(0.17 -0.17)\">\n",
       "       <use transform=\"translate(0 0.78125)\" xlink:href=\"#DejaVuSans-2212\"/>\n",
       "       <use transform=\"translate(83.789062 0.78125)\" xlink:href=\"#DejaVuSans-32\"/>\n",
       "       <use transform=\"translate(147.412109 0.78125)\" xlink:href=\"#DejaVuSans-Oblique-3c0\"/>\n",
       "      </g>\n",
       "     </g>\n",
       "    </g>\n",
       "    <g id=\"xtick_3\">\n",
       "     <g id=\"line2d_3\">\n",
       "      <g>\n",
       "       <use style=\"stroke:#000000;stroke-width:0.8;\" x=\"443.58\" xlink:href=\"#m1211b8bc6a\" y=\"246.140812\"/>\n",
       "      </g>\n",
       "     </g>\n",
       "     <g id=\"text_3\">\n",
       "      <!-- $0$ -->\n",
       "      <defs>\n",
       "       <path d=\"M 31.78125 66.40625 \n",
       "Q 24.171875 66.40625 20.328125 58.90625 \n",
       "Q 16.5 51.421875 16.5 36.375 \n",
       "Q 16.5 21.390625 20.328125 13.890625 \n",
       "Q 24.171875 6.390625 31.78125 6.390625 \n",
       "Q 39.453125 6.390625 43.28125 13.890625 \n",
       "Q 47.125 21.390625 47.125 36.375 \n",
       "Q 47.125 51.421875 43.28125 58.90625 \n",
       "Q 39.453125 66.40625 31.78125 66.40625 \n",
       "z\n",
       "M 31.78125 74.21875 \n",
       "Q 44.046875 74.21875 50.515625 64.515625 \n",
       "Q 56.984375 54.828125 56.984375 36.375 \n",
       "Q 56.984375 17.96875 50.515625 8.265625 \n",
       "Q 44.046875 -1.421875 31.78125 -1.421875 \n",
       "Q 19.53125 -1.421875 13.0625 8.265625 \n",
       "Q 6.59375 17.96875 6.59375 36.375 \n",
       "Q 6.59375 54.828125 13.0625 64.515625 \n",
       "Q 19.53125 74.21875 31.78125 74.21875 \n",
       "z\n",
       "\" id=\"DejaVuSans-30\"/>\n",
       "      </defs>\n",
       "      <g transform=\"translate(438.14 266.058156)scale(0.17 -0.17)\">\n",
       "       <use transform=\"translate(0 0.78125)\" xlink:href=\"#DejaVuSans-30\"/>\n",
       "      </g>\n",
       "     </g>\n",
       "    </g>\n",
       "    <g id=\"xtick_4\">\n",
       "     <g id=\"line2d_4\">\n",
       "      <g>\n",
       "       <use style=\"stroke:#000000;stroke-width:0.8;\" x=\"633.807273\" xlink:href=\"#m1211b8bc6a\" y=\"246.140812\"/>\n",
       "      </g>\n",
       "     </g>\n",
       "     <g id=\"text_4\">\n",
       "      <!-- $2\\pi$ -->\n",
       "      <g transform=\"translate(623.267273 266.058156)scale(0.17 -0.17)\">\n",
       "       <use transform=\"translate(0 0.78125)\" xlink:href=\"#DejaVuSans-32\"/>\n",
       "       <use transform=\"translate(63.623047 0.78125)\" xlink:href=\"#DejaVuSans-Oblique-3c0\"/>\n",
       "      </g>\n",
       "     </g>\n",
       "    </g>\n",
       "    <g id=\"xtick_5\">\n",
       "     <g id=\"line2d_5\">\n",
       "      <g>\n",
       "       <use style=\"stroke:#000000;stroke-width:0.8;\" x=\"824.034545\" xlink:href=\"#m1211b8bc6a\" y=\"246.140812\"/>\n",
       "      </g>\n",
       "     </g>\n",
       "     <g id=\"text_5\">\n",
       "      <!-- $4\\pi$ -->\n",
       "      <g transform=\"translate(813.494545 266.058156)scale(0.17 -0.17)\">\n",
       "       <use transform=\"translate(0 0.09375)\" xlink:href=\"#DejaVuSans-34\"/>\n",
       "       <use transform=\"translate(63.623047 0.09375)\" xlink:href=\"#DejaVuSans-Oblique-3c0\"/>\n",
       "      </g>\n",
       "     </g>\n",
       "    </g>\n",
       "   </g>\n",
       "   <g id=\"matplotlib.axis_2\">\n",
       "    <g id=\"ytick_1\">\n",
       "     <g id=\"line2d_6\">\n",
       "      <defs>\n",
       "       <path d=\"M 0 0 \n",
       "L -3.5 0 \n",
       "\" id=\"m32cdfc8819\" style=\"stroke:#000000;stroke-width:0.8;\"/>\n",
       "      </defs>\n",
       "      <g>\n",
       "       <use style=\"stroke:#000000;stroke-width:0.8;\" x=\"25.08\" xlink:href=\"#m32cdfc8819\" y=\"191.780812\"/>\n",
       "      </g>\n",
       "     </g>\n",
       "     <g id=\"text_6\">\n",
       "      <!-- $0$ -->\n",
       "      <g transform=\"translate(7.2 198.239484)scale(0.17 -0.17)\">\n",
       "       <use transform=\"translate(0 0.78125)\" xlink:href=\"#DejaVuSans-30\"/>\n",
       "      </g>\n",
       "     </g>\n",
       "    </g>\n",
       "    <g id=\"ytick_2\">\n",
       "     <g id=\"line2d_7\">\n",
       "      <g>\n",
       "       <use style=\"stroke:#000000;stroke-width:0.8;\" x=\"25.08\" xlink:href=\"#m32cdfc8819\" y=\"83.060812\"/>\n",
       "      </g>\n",
       "     </g>\n",
       "     <g id=\"text_7\">\n",
       "      <!-- $1$ -->\n",
       "      <defs>\n",
       "       <path d=\"M 12.40625 8.296875 \n",
       "L 28.515625 8.296875 \n",
       "L 28.515625 63.921875 \n",
       "L 10.984375 60.40625 \n",
       "L 10.984375 69.390625 \n",
       "L 28.421875 72.90625 \n",
       "L 38.28125 72.90625 \n",
       "L 38.28125 8.296875 \n",
       "L 54.390625 8.296875 \n",
       "L 54.390625 0 \n",
       "L 12.40625 0 \n",
       "z\n",
       "\" id=\"DejaVuSans-31\"/>\n",
       "      </defs>\n",
       "      <g transform=\"translate(7.2 89.519484)scale(0.17 -0.17)\">\n",
       "       <use transform=\"translate(0 0.09375)\" xlink:href=\"#DejaVuSans-31\"/>\n",
       "      </g>\n",
       "     </g>\n",
       "    </g>\n",
       "   </g>\n",
       "   <g id=\"line2d_8\">\n",
       "    <path clip-path=\"url(#p18a5219353)\" d=\"M 25.08 191.780812 \n",
       "L 862.08 191.780812 \n",
       "\" style=\"fill:none;stroke:#000000;stroke-linecap:square;\"/>\n",
       "   </g>\n",
       "   <g id=\"line2d_9\">\n",
       "    <path clip-path=\"url(#p18a5219353)\" d=\"M 63.125455 191.780812 \n",
       "L 82.167224 197.138696 \n",
       "L 89.02226 198.788175 \n",
       "L 94.353956 199.868266 \n",
       "L 99.685651 200.7278 \n",
       "L 104.255676 201.26344 \n",
       "L 108.8257 201.595108 \n",
       "L 113.395725 201.709672 \n",
       "L 117.965749 201.598482 \n",
       "L 122.535774 201.257676 \n",
       "L 127.105799 200.688393 \n",
       "L 131.675823 199.896885 \n",
       "L 136.245848 198.894518 \n",
       "L 141.577543 197.480706 \n",
       "L 146.909238 195.836594 \n",
       "L 153.002604 193.730298 \n",
       "L 161.380983 190.572539 \n",
       "L 177.376069 184.475254 \n",
       "L 183.469435 182.41407 \n",
       "L 188.80113 180.844046 \n",
       "L 193.371155 179.717879 \n",
       "L 197.941179 178.829246 \n",
       "L 201.749533 178.291155 \n",
       "L 205.557887 177.952422 \n",
       "L 209.366241 177.824745 \n",
       "L 213.174595 177.917027 \n",
       "L 216.982948 178.235171 \n",
       "L 220.791302 178.781901 \n",
       "L 224.599656 179.556631 \n",
       "L 228.40801 180.555372 \n",
       "L 232.216364 181.770686 \n",
       "L 236.024717 183.191682 \n",
       "L 240.594742 185.148013 \n",
       "L 245.164767 187.348779 \n",
       "L 250.496462 190.174913 \n",
       "L 256.589828 193.659347 \n",
       "L 278.67828 206.597739 \n",
       "L 283.248305 208.915382 \n",
       "L 287.818329 210.967918 \n",
       "L 291.626683 212.43223 \n",
       "L 295.435037 213.637102 \n",
       "L 298.48172 214.392981 \n",
       "L 301.528403 214.947583 \n",
       "L 304.575086 215.286954 \n",
       "L 307.621769 215.398365 \n",
       "L 310.668452 215.27044 \n",
       "L 313.715135 214.893264 \n",
       "L 316.761818 214.258492 \n",
       "L 319.808501 213.359438 \n",
       "L 322.855184 212.191159 \n",
       "L 325.901867 210.750525 \n",
       "L 328.94855 209.036272 \n",
       "L 331.995233 207.049047 \n",
       "L 335.041916 204.791436 \n",
       "L 338.0886 202.267975 \n",
       "L 341.135283 199.485153 \n",
       "L 344.943636 195.654914 \n",
       "L 348.75199 191.453347 \n",
       "L 352.560344 186.905576 \n",
       "L 356.368698 182.041023 \n",
       "L 360.938722 175.832798 \n",
       "L 366.270418 168.161428 \n",
       "L 372.363784 158.970607 \n",
       "L 382.265504 143.545394 \n",
       "L 391.405553 129.425501 \n",
       "L 397.498919 120.435808 \n",
       "L 402.068943 114.062861 \n",
       "L 406.638968 108.099208 \n",
       "L 410.447322 103.499025 \n",
       "L 414.255676 99.280204 \n",
       "L 417.302359 96.206167 \n",
       "L 420.349042 93.41969 \n",
       "L 423.395725 90.937473 \n",
       "L 426.442408 88.774436 \n",
       "L 429.489091 86.943616 \n",
       "L 431.774103 85.795249 \n",
       "L 434.059115 84.843927 \n",
       "L 436.344128 84.092893 \n",
       "L 438.62914 83.54471 \n",
       "L 440.914152 83.201247 \n",
       "L 443.199165 83.06368 \n",
       "L 445.484177 83.132477 \n",
       "L 447.769189 83.407403 \n",
       "L 450.054201 83.88752 \n",
       "L 452.339214 84.571188 \n",
       "L 454.624226 85.456074 \n",
       "L 456.909238 86.539161 \n",
       "L 459.194251 87.81676 \n",
       "L 462.240934 89.815197 \n",
       "L 465.287617 92.139574 \n",
       "L 468.3343 94.775899 \n",
       "L 471.380983 97.70835 \n",
       "L 474.427666 100.919384 \n",
       "L 478.23602 105.295643 \n",
       "L 482.044373 110.036655 \n",
       "L 486.614398 116.145725 \n",
       "L 491.184423 122.63681 \n",
       "L 496.516118 130.579788 \n",
       "L 504.132826 142.353912 \n",
       "L 517.842899 163.612039 \n",
       "L 523.936265 172.595764 \n",
       "L 528.50629 178.983999 \n",
       "L 533.076314 184.995982 \n",
       "L 536.884668 189.67423 \n",
       "L 540.693022 194.017539 \n",
       "L 544.501376 197.99904 \n",
       "L 547.548059 200.908503 \n",
       "L 550.594742 203.562577 \n",
       "L 553.641425 205.953802 \n",
       "L 556.688108 208.076665 \n",
       "L 559.734791 209.927606 \n",
       "L 562.781474 211.50501 \n",
       "L 565.828157 212.80919 \n",
       "L 568.87484 213.84235 \n",
       "L 571.921523 214.608535 \n",
       "L 574.968206 215.113568 \n",
       "L 578.014889 215.364974 \n",
       "L 581.061572 215.371898 \n",
       "L 584.108256 215.144998 \n",
       "L 587.154939 214.696341 \n",
       "L 590.201622 214.039284 \n",
       "L 593.248305 213.188347 \n",
       "L 597.056658 211.875807 \n",
       "L 600.865012 210.316972 \n",
       "L 605.435037 208.169245 \n",
       "L 610.005061 205.777002 \n",
       "L 616.098428 202.315243 \n",
       "L 627.523489 195.468242 \n",
       "L 635.140197 191.024556 \n",
       "L 641.233563 187.736796 \n",
       "L 645.803587 185.498767 \n",
       "L 650.373612 183.499364 \n",
       "L 654.943636 181.770686 \n",
       "L 658.75199 180.555372 \n",
       "L 662.560344 179.556631 \n",
       "L 666.368698 178.781901 \n",
       "L 670.177052 178.235171 \n",
       "L 673.985405 177.917027 \n",
       "L 677.793759 177.824745 \n",
       "L 681.602113 177.952422 \n",
       "L 685.410467 178.291155 \n",
       "L 689.218821 178.829246 \n",
       "L 693.788845 179.717879 \n",
       "L 698.35887 180.844046 \n",
       "L 703.690565 182.41407 \n",
       "L 709.783931 184.475254 \n",
       "L 717.400639 187.316294 \n",
       "L 736.442408 194.544402 \n",
       "L 742.535774 196.566873 \n",
       "L 747.867469 198.117017 \n",
       "L 753.199165 199.421151 \n",
       "L 757.769189 200.319826 \n",
       "L 762.339214 201.001324 \n",
       "L 766.909238 201.456829 \n",
       "L 771.479263 201.682653 \n",
       "L 776.049287 201.680177 \n",
       "L 780.619312 201.455692 \n",
       "L 785.189337 201.020131 \n",
       "L 790.521032 200.265737 \n",
       "L 795.852727 199.275688 \n",
       "L 801.946093 197.903076 \n",
       "L 808.80113 196.126603 \n",
       "L 819.464521 193.097622 \n",
       "L 824.034545 191.780812 \n",
       "L 824.034545 191.780812 \n",
       "\" style=\"fill:none;stroke:#1f77b4;stroke-linecap:square;stroke-width:1.5;\"/>\n",
       "   </g>\n",
       "   <g id=\"patch_3\">\n",
       "    <path d=\"M 25.08 246.140812 \n",
       "L 25.08 28.700812 \n",
       "\" style=\"fill:none;stroke:#000000;stroke-linecap:square;stroke-linejoin:miter;stroke-width:0.8;\"/>\n",
       "   </g>\n",
       "   <g id=\"patch_4\">\n",
       "    <path d=\"M 862.08 246.140812 \n",
       "L 862.08 28.700812 \n",
       "\" style=\"fill:none;stroke:#000000;stroke-linecap:square;stroke-linejoin:miter;stroke-width:0.8;\"/>\n",
       "   </g>\n",
       "   <g id=\"patch_5\">\n",
       "    <path d=\"M 25.08 246.140812 \n",
       "L 862.08 246.140812 \n",
       "\" style=\"fill:none;stroke:#000000;stroke-linecap:square;stroke-linejoin:miter;stroke-width:0.8;\"/>\n",
       "   </g>\n",
       "   <g id=\"patch_6\">\n",
       "    <path d=\"M 25.08 28.700812 \n",
       "L 862.08 28.700812 \n",
       "\" style=\"fill:none;stroke:#000000;stroke-linecap:square;stroke-linejoin:miter;stroke-width:0.8;\"/>\n",
       "   </g>\n",
       "   <g id=\"text_8\">\n",
       "    <!-- Die $sinc$ Funktion -->\n",
       "    <defs>\n",
       "     <path d=\"M 19.671875 64.796875 \n",
       "L 19.671875 8.109375 \n",
       "L 31.59375 8.109375 \n",
       "Q 46.6875 8.109375 53.6875 14.9375 \n",
       "Q 60.6875 21.78125 60.6875 36.53125 \n",
       "Q 60.6875 51.171875 53.6875 57.984375 \n",
       "Q 46.6875 64.796875 31.59375 64.796875 \n",
       "z\n",
       "M 9.8125 72.90625 \n",
       "L 30.078125 72.90625 \n",
       "Q 51.265625 72.90625 61.171875 64.09375 \n",
       "Q 71.09375 55.28125 71.09375 36.53125 \n",
       "Q 71.09375 17.671875 61.125 8.828125 \n",
       "Q 51.171875 0 30.078125 0 \n",
       "L 9.8125 0 \n",
       "z\n",
       "\" id=\"DejaVuSans-44\"/>\n",
       "     <path d=\"M 9.421875 54.6875 \n",
       "L 18.40625 54.6875 \n",
       "L 18.40625 0 \n",
       "L 9.421875 0 \n",
       "z\n",
       "M 9.421875 75.984375 \n",
       "L 18.40625 75.984375 \n",
       "L 18.40625 64.59375 \n",
       "L 9.421875 64.59375 \n",
       "z\n",
       "\" id=\"DejaVuSans-69\"/>\n",
       "     <path d=\"M 56.203125 29.59375 \n",
       "L 56.203125 25.203125 \n",
       "L 14.890625 25.203125 \n",
       "Q 15.484375 15.921875 20.484375 11.0625 \n",
       "Q 25.484375 6.203125 34.421875 6.203125 \n",
       "Q 39.59375 6.203125 44.453125 7.46875 \n",
       "Q 49.3125 8.734375 54.109375 11.28125 \n",
       "L 54.109375 2.78125 \n",
       "Q 49.265625 0.734375 44.1875 -0.34375 \n",
       "Q 39.109375 -1.421875 33.890625 -1.421875 \n",
       "Q 20.796875 -1.421875 13.15625 6.1875 \n",
       "Q 5.515625 13.8125 5.515625 26.8125 \n",
       "Q 5.515625 40.234375 12.765625 48.109375 \n",
       "Q 20.015625 56 32.328125 56 \n",
       "Q 43.359375 56 49.78125 48.890625 \n",
       "Q 56.203125 41.796875 56.203125 29.59375 \n",
       "z\n",
       "M 47.21875 32.234375 \n",
       "Q 47.125 39.59375 43.09375 43.984375 \n",
       "Q 39.0625 48.390625 32.421875 48.390625 \n",
       "Q 24.90625 48.390625 20.390625 44.140625 \n",
       "Q 15.875 39.890625 15.1875 32.171875 \n",
       "z\n",
       "\" id=\"DejaVuSans-65\"/>\n",
       "     <path id=\"DejaVuSans-20\"/>\n",
       "     <path d=\"M 50 53.078125 \n",
       "L 48.296875 44.578125 \n",
       "Q 44.734375 46.53125 40.765625 47.5 \n",
       "Q 36.8125 48.484375 32.625 48.484375 \n",
       "Q 25.53125 48.484375 21.453125 46.0625 \n",
       "Q 17.390625 43.65625 17.390625 39.5 \n",
       "Q 17.390625 34.671875 26.859375 32.078125 \n",
       "Q 27.59375 31.890625 27.9375 31.78125 \n",
       "L 30.8125 30.90625 \n",
       "Q 39.796875 28.421875 42.796875 25.6875 \n",
       "Q 45.796875 22.953125 45.796875 18.21875 \n",
       "Q 45.796875 9.515625 38.890625 4.046875 \n",
       "Q 31.984375 -1.421875 20.796875 -1.421875 \n",
       "Q 16.453125 -1.421875 11.671875 -0.578125 \n",
       "Q 6.890625 0.25 1.125 2 \n",
       "L 2.875 11.28125 \n",
       "Q 7.8125 8.734375 12.59375 7.421875 \n",
       "Q 17.390625 6.109375 21.78125 6.109375 \n",
       "Q 28.375 6.109375 32.5 8.9375 \n",
       "Q 36.625 11.765625 36.625 16.109375 \n",
       "Q 36.625 20.796875 25.78125 23.6875 \n",
       "L 24.859375 23.921875 \n",
       "L 21.78125 24.703125 \n",
       "Q 14.9375 26.515625 11.765625 29.46875 \n",
       "Q 8.59375 32.421875 8.59375 37.015625 \n",
       "Q 8.59375 45.75 15.15625 50.875 \n",
       "Q 21.734375 56 33.015625 56 \n",
       "Q 37.453125 56 41.671875 55.265625 \n",
       "Q 45.90625 54.546875 50 53.078125 \n",
       "z\n",
       "\" id=\"DejaVuSans-Oblique-73\"/>\n",
       "     <path d=\"M 18.3125 75.984375 \n",
       "L 27.296875 75.984375 \n",
       "L 25.09375 64.59375 \n",
       "L 16.109375 64.59375 \n",
       "z\n",
       "M 14.203125 54.6875 \n",
       "L 23.1875 54.6875 \n",
       "L 12.5 0 \n",
       "L 3.515625 0 \n",
       "z\n",
       "\" id=\"DejaVuSans-Oblique-69\"/>\n",
       "     <path d=\"M 55.71875 33.015625 \n",
       "L 49.3125 0 \n",
       "L 40.28125 0 \n",
       "L 46.6875 32.671875 \n",
       "Q 47.125 34.96875 47.359375 36.71875 \n",
       "Q 47.609375 38.484375 47.609375 39.5 \n",
       "Q 47.609375 43.609375 45.015625 45.890625 \n",
       "Q 42.4375 48.1875 37.796875 48.1875 \n",
       "Q 30.5625 48.1875 25.34375 43.375 \n",
       "Q 20.125 38.578125 18.5 30.328125 \n",
       "L 12.5 0 \n",
       "L 3.515625 0 \n",
       "L 14.109375 54.6875 \n",
       "L 23.09375 54.6875 \n",
       "L 21.296875 46.09375 \n",
       "Q 25.046875 50.828125 30.3125 53.40625 \n",
       "Q 35.59375 56 41.40625 56 \n",
       "Q 48.640625 56 52.609375 52.09375 \n",
       "Q 56.59375 48.1875 56.59375 41.109375 \n",
       "Q 56.59375 39.359375 56.375 37.359375 \n",
       "Q 56.15625 35.359375 55.71875 33.015625 \n",
       "z\n",
       "\" id=\"DejaVuSans-Oblique-6e\"/>\n",
       "     <path d=\"M 53.609375 52.59375 \n",
       "L 51.8125 43.703125 \n",
       "Q 48.578125 46.046875 44.9375 47.21875 \n",
       "Q 41.3125 48.390625 37.40625 48.390625 \n",
       "Q 33.109375 48.390625 29.21875 46.875 \n",
       "Q 25.34375 45.359375 22.703125 42.578125 \n",
       "Q 18.5 38.328125 16.203125 32.609375 \n",
       "Q 13.921875 26.90625 13.921875 20.796875 \n",
       "Q 13.921875 13.421875 17.609375 9.8125 \n",
       "Q 21.296875 6.203125 28.8125 6.203125 \n",
       "Q 32.515625 6.203125 36.6875 7.328125 \n",
       "Q 40.875 8.453125 45.40625 10.6875 \n",
       "L 43.703125 1.8125 \n",
       "Q 39.796875 0.203125 35.671875 -0.609375 \n",
       "Q 31.546875 -1.421875 27.203125 -1.421875 \n",
       "Q 16.3125 -1.421875 10.453125 4.015625 \n",
       "Q 4.59375 9.46875 4.59375 19.578125 \n",
       "Q 4.59375 28.078125 7.640625 35.234375 \n",
       "Q 10.6875 42.390625 16.703125 48.09375 \n",
       "Q 20.796875 52 26.3125 54 \n",
       "Q 31.84375 56 38.375 56 \n",
       "Q 42.1875 56 45.9375 55.140625 \n",
       "Q 49.703125 54.296875 53.609375 52.59375 \n",
       "z\n",
       "\" id=\"DejaVuSans-Oblique-63\"/>\n",
       "     <path d=\"M 9.8125 72.90625 \n",
       "L 51.703125 72.90625 \n",
       "L 51.703125 64.59375 \n",
       "L 19.671875 64.59375 \n",
       "L 19.671875 43.109375 \n",
       "L 48.578125 43.109375 \n",
       "L 48.578125 34.8125 \n",
       "L 19.671875 34.8125 \n",
       "L 19.671875 0 \n",
       "L 9.8125 0 \n",
       "z\n",
       "\" id=\"DejaVuSans-46\"/>\n",
       "     <path d=\"M 8.5 21.578125 \n",
       "L 8.5 54.6875 \n",
       "L 17.484375 54.6875 \n",
       "L 17.484375 21.921875 \n",
       "Q 17.484375 14.15625 20.5 10.265625 \n",
       "Q 23.53125 6.390625 29.59375 6.390625 \n",
       "Q 36.859375 6.390625 41.078125 11.03125 \n",
       "Q 45.3125 15.671875 45.3125 23.6875 \n",
       "L 45.3125 54.6875 \n",
       "L 54.296875 54.6875 \n",
       "L 54.296875 0 \n",
       "L 45.3125 0 \n",
       "L 45.3125 8.40625 \n",
       "Q 42.046875 3.421875 37.71875 1 \n",
       "Q 33.40625 -1.421875 27.6875 -1.421875 \n",
       "Q 18.265625 -1.421875 13.375 4.4375 \n",
       "Q 8.5 10.296875 8.5 21.578125 \n",
       "z\n",
       "M 31.109375 56 \n",
       "z\n",
       "\" id=\"DejaVuSans-75\"/>\n",
       "     <path d=\"M 54.890625 33.015625 \n",
       "L 54.890625 0 \n",
       "L 45.90625 0 \n",
       "L 45.90625 32.71875 \n",
       "Q 45.90625 40.484375 42.875 44.328125 \n",
       "Q 39.84375 48.1875 33.796875 48.1875 \n",
       "Q 26.515625 48.1875 22.3125 43.546875 \n",
       "Q 18.109375 38.921875 18.109375 30.90625 \n",
       "L 18.109375 0 \n",
       "L 9.078125 0 \n",
       "L 9.078125 54.6875 \n",
       "L 18.109375 54.6875 \n",
       "L 18.109375 46.1875 \n",
       "Q 21.34375 51.125 25.703125 53.5625 \n",
       "Q 30.078125 56 35.796875 56 \n",
       "Q 45.21875 56 50.046875 50.171875 \n",
       "Q 54.890625 44.34375 54.890625 33.015625 \n",
       "z\n",
       "\" id=\"DejaVuSans-6e\"/>\n",
       "     <path d=\"M 9.078125 75.984375 \n",
       "L 18.109375 75.984375 \n",
       "L 18.109375 31.109375 \n",
       "L 44.921875 54.6875 \n",
       "L 56.390625 54.6875 \n",
       "L 27.390625 29.109375 \n",
       "L 57.625 0 \n",
       "L 45.90625 0 \n",
       "L 18.109375 26.703125 \n",
       "L 18.109375 0 \n",
       "L 9.078125 0 \n",
       "z\n",
       "\" id=\"DejaVuSans-6b\"/>\n",
       "     <path d=\"M 18.3125 70.21875 \n",
       "L 18.3125 54.6875 \n",
       "L 36.8125 54.6875 \n",
       "L 36.8125 47.703125 \n",
       "L 18.3125 47.703125 \n",
       "L 18.3125 18.015625 \n",
       "Q 18.3125 11.328125 20.140625 9.421875 \n",
       "Q 21.96875 7.515625 27.59375 7.515625 \n",
       "L 36.8125 7.515625 \n",
       "L 36.8125 0 \n",
       "L 27.59375 0 \n",
       "Q 17.1875 0 13.234375 3.875 \n",
       "Q 9.28125 7.765625 9.28125 18.015625 \n",
       "L 9.28125 47.703125 \n",
       "L 2.6875 47.703125 \n",
       "L 2.6875 54.6875 \n",
       "L 9.28125 54.6875 \n",
       "L 9.28125 70.21875 \n",
       "z\n",
       "\" id=\"DejaVuSans-74\"/>\n",
       "     <path d=\"M 30.609375 48.390625 \n",
       "Q 23.390625 48.390625 19.1875 42.75 \n",
       "Q 14.984375 37.109375 14.984375 27.296875 \n",
       "Q 14.984375 17.484375 19.15625 11.84375 \n",
       "Q 23.34375 6.203125 30.609375 6.203125 \n",
       "Q 37.796875 6.203125 41.984375 11.859375 \n",
       "Q 46.1875 17.53125 46.1875 27.296875 \n",
       "Q 46.1875 37.015625 41.984375 42.703125 \n",
       "Q 37.796875 48.390625 30.609375 48.390625 \n",
       "z\n",
       "M 30.609375 56 \n",
       "Q 42.328125 56 49.015625 48.375 \n",
       "Q 55.71875 40.765625 55.71875 27.296875 \n",
       "Q 55.71875 13.875 49.015625 6.21875 \n",
       "Q 42.328125 -1.421875 30.609375 -1.421875 \n",
       "Q 18.84375 -1.421875 12.171875 6.21875 \n",
       "Q 5.515625 13.875 5.515625 27.296875 \n",
       "Q 5.515625 40.765625 12.171875 48.375 \n",
       "Q 18.84375 56 30.609375 56 \n",
       "z\n",
       "\" id=\"DejaVuSans-6f\"/>\n",
       "    </defs>\n",
       "    <g transform=\"translate(355.656 22.700812)scale(0.204 -0.204)\">\n",
       "     <use transform=\"translate(0 0.015625)\" xlink:href=\"#DejaVuSans-44\"/>\n",
       "     <use transform=\"translate(77.001953 0.015625)\" xlink:href=\"#DejaVuSans-69\"/>\n",
       "     <use transform=\"translate(104.785156 0.015625)\" xlink:href=\"#DejaVuSans-65\"/>\n",
       "     <use transform=\"translate(166.308594 0.015625)\" xlink:href=\"#DejaVuSans-20\"/>\n",
       "     <use transform=\"translate(198.095703 0.015625)\" xlink:href=\"#DejaVuSans-Oblique-73\"/>\n",
       "     <use transform=\"translate(250.195312 0.015625)\" xlink:href=\"#DejaVuSans-Oblique-69\"/>\n",
       "     <use transform=\"translate(277.978516 0.015625)\" xlink:href=\"#DejaVuSans-Oblique-6e\"/>\n",
       "     <use transform=\"translate(341.357422 0.015625)\" xlink:href=\"#DejaVuSans-Oblique-63\"/>\n",
       "     <use transform=\"translate(396.337891 0.015625)\" xlink:href=\"#DejaVuSans-20\"/>\n",
       "     <use transform=\"translate(428.125 0.015625)\" xlink:href=\"#DejaVuSans-46\"/>\n",
       "     <use transform=\"translate(485.644531 0.015625)\" xlink:href=\"#DejaVuSans-75\"/>\n",
       "     <use transform=\"translate(549.023438 0.015625)\" xlink:href=\"#DejaVuSans-6e\"/>\n",
       "     <use transform=\"translate(612.402344 0.015625)\" xlink:href=\"#DejaVuSans-6b\"/>\n",
       "     <use transform=\"translate(670.3125 0.015625)\" xlink:href=\"#DejaVuSans-74\"/>\n",
       "     <use transform=\"translate(709.521484 0.015625)\" xlink:href=\"#DejaVuSans-69\"/>\n",
       "     <use transform=\"translate(737.304688 0.015625)\" xlink:href=\"#DejaVuSans-6f\"/>\n",
       "     <use transform=\"translate(798.486328 0.015625)\" xlink:href=\"#DejaVuSans-6e\"/>\n",
       "    </g>\n",
       "   </g>\n",
       "   <g id=\"legend_1\">\n",
       "    <g id=\"patch_7\">\n",
       "     <path d=\"M 683.28 81.300812 \n",
       "L 848.08 81.300812 \n",
       "Q 852.08 81.300812 852.08 77.300812 \n",
       "L 852.08 42.700812 \n",
       "Q 852.08 38.700812 848.08 38.700812 \n",
       "L 683.28 38.700812 \n",
       "Q 679.28 38.700812 679.28 42.700812 \n",
       "L 679.28 77.300812 \n",
       "Q 679.28 81.300812 683.28 81.300812 \n",
       "z\n",
       "\" style=\"fill:#ffffff;opacity:0.8;stroke:#cccccc;stroke-linejoin:miter;\"/>\n",
       "    </g>\n",
       "    <g id=\"line2d_10\">\n",
       "     <path d=\"M 687.28 61.100812 \n",
       "L 727.28 61.100812 \n",
       "\" style=\"fill:none;stroke:#1f77b4;stroke-linecap:square;stroke-width:1.5;\"/>\n",
       "    </g>\n",
       "    <g id=\"line2d_11\"/>\n",
       "    <g id=\"text_9\">\n",
       "     <!-- $f(x)=\\frac{\\sin(x)}{x}$ -->\n",
       "     <defs>\n",
       "      <path d=\"M 47.796875 75.984375 \n",
       "L 46.390625 68.5 \n",
       "L 37.796875 68.5 \n",
       "Q 32.90625 68.5 30.6875 66.578125 \n",
       "Q 28.46875 64.65625 27.390625 59.515625 \n",
       "L 26.421875 54.6875 \n",
       "L 41.21875 54.6875 \n",
       "L 39.890625 47.703125 \n",
       "L 25.09375 47.703125 \n",
       "L 15.828125 0 \n",
       "L 6.78125 0 \n",
       "L 16.109375 47.703125 \n",
       "L 7.515625 47.703125 \n",
       "L 8.796875 54.6875 \n",
       "L 17.390625 54.6875 \n",
       "L 18.109375 58.5 \n",
       "Q 19.96875 68.171875 24.625 72.078125 \n",
       "Q 29.296875 75.984375 39.3125 75.984375 \n",
       "z\n",
       "\" id=\"DejaVuSans-Oblique-66\"/>\n",
       "      <path d=\"M 31 75.875 \n",
       "Q 24.46875 64.65625 21.28125 53.65625 \n",
       "Q 18.109375 42.671875 18.109375 31.390625 \n",
       "Q 18.109375 20.125 21.3125 9.0625 \n",
       "Q 24.515625 -2 31 -13.1875 \n",
       "L 23.1875 -13.1875 \n",
       "Q 15.875 -1.703125 12.234375 9.375 \n",
       "Q 8.59375 20.453125 8.59375 31.390625 \n",
       "Q 8.59375 42.28125 12.203125 53.3125 \n",
       "Q 15.828125 64.359375 23.1875 75.875 \n",
       "z\n",
       "\" id=\"DejaVuSans-28\"/>\n",
       "      <path d=\"M 60.015625 54.6875 \n",
       "L 34.90625 27.875 \n",
       "L 50.296875 0 \n",
       "L 39.984375 0 \n",
       "L 28.421875 21.6875 \n",
       "L 8.296875 0 \n",
       "L -2.59375 0 \n",
       "L 24.3125 28.8125 \n",
       "L 10.015625 54.6875 \n",
       "L 20.3125 54.6875 \n",
       "L 30.8125 34.90625 \n",
       "L 49.125 54.6875 \n",
       "z\n",
       "\" id=\"DejaVuSans-Oblique-78\"/>\n",
       "      <path d=\"M 8.015625 75.875 \n",
       "L 15.828125 75.875 \n",
       "Q 23.140625 64.359375 26.78125 53.3125 \n",
       "Q 30.421875 42.28125 30.421875 31.390625 \n",
       "Q 30.421875 20.453125 26.78125 9.375 \n",
       "Q 23.140625 -1.703125 15.828125 -13.1875 \n",
       "L 8.015625 -13.1875 \n",
       "Q 14.5 -2 17.703125 9.0625 \n",
       "Q 20.90625 20.125 20.90625 31.390625 \n",
       "Q 20.90625 42.671875 17.703125 53.65625 \n",
       "Q 14.5 64.65625 8.015625 75.875 \n",
       "z\n",
       "\" id=\"DejaVuSans-29\"/>\n",
       "      <path d=\"M 10.59375 45.40625 \n",
       "L 73.1875 45.40625 \n",
       "L 73.1875 37.203125 \n",
       "L 10.59375 37.203125 \n",
       "z\n",
       "M 10.59375 25.484375 \n",
       "L 73.1875 25.484375 \n",
       "L 73.1875 17.1875 \n",
       "L 10.59375 17.1875 \n",
       "z\n",
       "\" id=\"DejaVuSans-3d\"/>\n",
       "      <path d=\"M 44.28125 53.078125 \n",
       "L 44.28125 44.578125 \n",
       "Q 40.484375 46.53125 36.375 47.5 \n",
       "Q 32.28125 48.484375 27.875 48.484375 \n",
       "Q 21.1875 48.484375 17.84375 46.4375 \n",
       "Q 14.5 44.390625 14.5 40.28125 \n",
       "Q 14.5 37.15625 16.890625 35.375 \n",
       "Q 19.28125 33.59375 26.515625 31.984375 \n",
       "L 29.59375 31.296875 \n",
       "Q 39.15625 29.25 43.1875 25.515625 \n",
       "Q 47.21875 21.78125 47.21875 15.09375 \n",
       "Q 47.21875 7.46875 41.1875 3.015625 \n",
       "Q 35.15625 -1.421875 24.609375 -1.421875 \n",
       "Q 20.21875 -1.421875 15.453125 -0.5625 \n",
       "Q 10.6875 0.296875 5.421875 2 \n",
       "L 5.421875 11.28125 \n",
       "Q 10.40625 8.6875 15.234375 7.390625 \n",
       "Q 20.0625 6.109375 24.8125 6.109375 \n",
       "Q 31.15625 6.109375 34.5625 8.28125 \n",
       "Q 37.984375 10.453125 37.984375 14.40625 \n",
       "Q 37.984375 18.0625 35.515625 20.015625 \n",
       "Q 33.0625 21.96875 24.703125 23.78125 \n",
       "L 21.578125 24.515625 \n",
       "Q 13.234375 26.265625 9.515625 29.90625 \n",
       "Q 5.8125 33.546875 5.8125 39.890625 \n",
       "Q 5.8125 47.609375 11.28125 51.796875 \n",
       "Q 16.75 56 26.8125 56 \n",
       "Q 31.78125 56 36.171875 55.265625 \n",
       "Q 40.578125 54.546875 44.28125 53.078125 \n",
       "z\n",
       "\" id=\"DejaVuSans-73\"/>\n",
       "     </defs>\n",
       "     <g transform=\"translate(743.28 68.100812)scale(0.2 -0.2)\">\n",
       "      <use transform=\"translate(0 0.782813)\" xlink:href=\"#DejaVuSans-Oblique-66\"/>\n",
       "      <use transform=\"translate(35.205078 0.782813)\" xlink:href=\"#DejaVuSans-28\"/>\n",
       "      <use transform=\"translate(74.21875 0.782813)\" xlink:href=\"#DejaVuSans-Oblique-78\"/>\n",
       "      <use transform=\"translate(133.398438 0.782813)\" xlink:href=\"#DejaVuSans-29\"/>\n",
       "      <use transform=\"translate(191.894531 0.782813)\" xlink:href=\"#DejaVuSans-3d\"/>\n",
       "      <use transform=\"translate(295.166016 53.810938)scale(0.7)\" xlink:href=\"#DejaVuSans-73\"/>\n",
       "      <use transform=\"translate(331.635742 53.810938)scale(0.7)\" xlink:href=\"#DejaVuSans-69\"/>\n",
       "      <use transform=\"translate(351.083984 53.810938)scale(0.7)\" xlink:href=\"#DejaVuSans-6e\"/>\n",
       "      <use transform=\"translate(395.449219 53.810938)scale(0.7)\" xlink:href=\"#DejaVuSans-28\"/>\n",
       "      <use transform=\"translate(422.758789 53.810938)scale(0.7)\" xlink:href=\"#DejaVuSans-Oblique-78\"/>\n",
       "      <use transform=\"translate(464.18457 53.810938)scale(0.7)\" xlink:href=\"#DejaVuSans-29\"/>\n",
       "      <use transform=\"translate(372.166016 -24.951562)scale(0.7)\" xlink:href=\"#DejaVuSans-Oblique-78\"/>\n",
       "      <path d=\"M 295.166016 19.579688 \n",
       "L 295.166016 25.829688 \n",
       "L 491.494141 25.829688 \n",
       "L 491.494141 19.579688 \n",
       "L 295.166016 19.579688 \n",
       "z\n",
       "\"/>\n",
       "     </g>\n",
       "    </g>\n",
       "   </g>\n",
       "  </g>\n",
       " </g>\n",
       " <defs>\n",
       "  <clipPath id=\"p18a5219353\">\n",
       "   <rect height=\"217.44\" width=\"837\" x=\"25.08\" y=\"28.700812\"/>\n",
       "  </clipPath>\n",
       " </defs>\n",
       "</svg>\n"
      ],
      "text/plain": [
       "<Figure size 1080x288 with 1 Axes>"
      ]
     },
     "metadata": {
      "needs_background": "light"
     },
     "output_type": "display_data"
    }
   ],
   "source": [
    "%matplotlib inline\n",
    "%config InlineBackend.figure_format = 'svg'\n",
    "import numpy as np\n",
    "import matplotlib.pyplot as plt\n",
    "pi = np.pi\n",
    "x = np.linspace(-4*pi, 4*pi, 1000)\n",
    "#Plot & Font Größe\n",
    "plt.rcParams['figure.figsize'] = (15,4)\n",
    "plt.rcParams.update({'font.size':17})\n",
    "#Eigene Achsen\n",
    "plt.yticks([0,1], ['$0$','$1$'])\n",
    "plt.xticks([-4*pi,-2*pi,0,2*pi,4*pi,],['$-4\\pi$','$-2\\pi$','$0$','$2\\pi$','$4\\pi$'])\n",
    "#Horizontale Linie\n",
    "plt.axhline(0, color='black', lw=1)\n",
    "plt.plot(x, np.sin(x)/x, label=r'$f(x)=\\frac{\\sin(x)}{x}$')\n",
    "#Achsen Range\n",
    "plt.ylim(-0.5,1.5)\n",
    "#Titel\n",
    "plt.title('Die $sinc$ Funktion')\n",
    "#Legende\n",
    "plt.legend(loc='best', fontsize=20)\n",
    "plt.show()"
   ]
  },
  {
   "cell_type": "code",
   "execution_count": null,
   "metadata": {
    "slideshow": {
     "slide_type": "slide"
    }
   },
   "outputs": [],
   "source": [
    "from IPython.display import HTML\n",
    "url = 'https://www.mentimeter.com/s/792d3aa3784038121e8e9cc39fec8a92/e679f9ca12de'\n",
    "iframe = '<iframe src=' + url + ' onload=\"this.width=0.9*screen.width; this.height=0.45*screen.height;\"></iframe>'\n",
    "HTML(iframe)"
   ]
  },
  {
   "cell_type": "code",
   "execution_count": null,
   "metadata": {},
   "outputs": [],
   "source": []
  }
 ],
 "metadata": {
  "celltoolbar": "Slideshow",
  "kernelspec": {
   "display_name": "Python 2",
   "language": "python",
   "name": "python2"
  },
  "language_info": {
   "codemirror_mode": {
    "name": "ipython",
    "version": 2
   },
   "file_extension": ".py",
   "mimetype": "text/x-python",
   "name": "python",
   "nbconvert_exporter": "python",
   "pygments_lexer": "ipython2",
   "version": "2.7.12"
  }
 },
 "nbformat": 4,
 "nbformat_minor": 2
}
